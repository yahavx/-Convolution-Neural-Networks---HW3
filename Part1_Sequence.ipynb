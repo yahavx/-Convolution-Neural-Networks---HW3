{
  "cells": [
    {
      "cell_type": "markdown",
      "metadata": {
        "id": "LuKYByWmiFPh"
      },
      "source": [
        "# 0: Google Colab Setup\n",
        "If you run this notebook on Google Colab:\n",
        "1. uncomment the following code cells\n",
        "2. mount google drive\n",
        "3. locate you folder and modify the path in os.chdir()\n",
        "4. change your working directory to the Google Drive folder\n",
        "5. verify hw3 import is successfull"
      ]
    },
    {
      "cell_type": "code",
      "execution_count": 1,
      "metadata": {
        "colab": {
          "base_uri": "https://localhost:8080/"
        },
        "id": "fHMzO4JfiFPp",
        "outputId": "a5b14f9f-c03a-480c-cb1f-b8a14cc98b8b"
      },
      "outputs": [
        {
          "output_type": "stream",
          "name": "stdout",
          "text": [
            "Drive already mounted at /content/drive; to attempt to forcibly remount, call drive.mount(\"/content/drive\", force_remount=True).\n"
          ]
        }
      ],
      "source": [
        "from google.colab import drive\n",
        "drive.mount('/content/drive')"
      ]
    },
    {
      "cell_type": "code",
      "execution_count": 2,
      "metadata": {
        "id": "JYXHBzDDiFPq"
      },
      "outputs": [],
      "source": [
        "import os\n",
        "os.chdir(\"/content/drive/MyDrive/-Convolution-Neural-Networks---HW3\")  # full path to your folder"
      ]
    },
    {
      "cell_type": "code",
      "execution_count": 3,
      "metadata": {
        "id": "rUa21Pg7iFPq"
      },
      "outputs": [],
      "source": [
        "import hw3  # check correctness"
      ]
    },
    {
      "cell_type": "markdown",
      "metadata": {
        "id": "4YsxUu0yiFPq"
      },
      "source": [
        "$$\n",
        "\\renewcommand{\\mat}[1]{\\boldsymbol {#1}}\n",
        "\\renewcommand{\\mattr}[1]{\\boldsymbol {#1}^\\top}\n",
        "\\renewcommand{\\matinv}[1]{\\boldsymbol {#1}^{-1}}\n",
        "\\renewcommand{\\vec}[1]{\\boldsymbol {#1}}\n",
        "\\renewcommand{\\vectr}[1]{\\boldsymbol {#1}^\\top}\n",
        "\\renewcommand{\\rvar}[1]{\\mathrm {#1}}\n",
        "\\renewcommand{\\rvec}[1]{\\boldsymbol{\\mathrm{#1}}}\n",
        "\\renewcommand{\\diag}{\\mathop{\\mathrm {diag}}}\n",
        "\\renewcommand{\\set}[1]{\\mathbb {#1}}\n",
        "\\newcommand{\\norm}[1]{\\left\\lVert#1\\right\\rVert}\n",
        "\\newcommand{\\pderiv}[2]{\\frac{\\partial #1}{\\partial #2}}\n",
        "\\newcommand{\\bb}[1]{\\boldsymbol{#1}}\n",
        "$$\n",
        "# Part 1: Sequence Models\n",
        "<a id=part1></a>"
      ]
    },
    {
      "cell_type": "markdown",
      "metadata": {
        "id": "HASKFNNfiFPq"
      },
      "source": [
        "In this part we will learn about working with text sequences using recurrent neural networks.\n",
        "We'll go from a raw text file all the way to a fully trained GRU-RNN model and generate works of art!"
      ]
    },
    {
      "cell_type": "code",
      "execution_count": 4,
      "metadata": {
        "id": "7Y4_I7ZliFPq"
      },
      "outputs": [],
      "source": [
        "import unittest\n",
        "import os\n",
        "import sys\n",
        "import pathlib\n",
        "import urllib\n",
        "import shutil\n",
        "import re\n",
        "\n",
        "import numpy as np\n",
        "import torch\n",
        "import matplotlib.pyplot as plt\n",
        "\n",
        "%load_ext autoreload\n",
        "%autoreload 2\n",
        "\n",
        "test = unittest.TestCase()\n",
        "plt.rcParams.update({'font.size': 12})"
      ]
    },
    {
      "cell_type": "code",
      "execution_count": 5,
      "metadata": {
        "colab": {
          "base_uri": "https://localhost:8080/"
        },
        "id": "S4JdrSS7iFPr",
        "outputId": "f410742d-b647-4e8e-cd5e-c66c3ba28b45"
      },
      "outputs": [
        {
          "output_type": "stream",
          "name": "stdout",
          "text": [
            "2.0.1+cu118\n",
            "Using device: cuda\n"
          ]
        }
      ],
      "source": [
        "# Make sure you are using GPU\n",
        "device = torch.device('cuda' if torch.cuda.is_available() else 'cpu')\n",
        "print(torch.__version__)\n",
        "print('Using device:', device)"
      ]
    },
    {
      "cell_type": "markdown",
      "metadata": {
        "id": "LM3AwHxWiFPr"
      },
      "source": [
        "## Text generation with a char-level RNN\n",
        "<a id=part1_1></a>"
      ]
    },
    {
      "cell_type": "markdown",
      "metadata": {
        "id": "9dT4yf-RiFPr"
      },
      "source": [
        "### Obtaining the corpus\n",
        "<a id=part1_2></a>"
      ]
    },
    {
      "cell_type": "markdown",
      "metadata": {
        "id": "kp0qIDpUiFPs"
      },
      "source": [
        "Let's begin by downloading a corpus containing all the works of William Shakespeare.\n",
        "Since he was very prolific, this corpus is fairly large and will provide us with enough data for\n",
        "obtaining impressive results."
      ]
    },
    {
      "cell_type": "code",
      "execution_count": 6,
      "metadata": {
        "colab": {
          "base_uri": "https://localhost:8080/"
        },
        "id": "-hOe5Ds3iFPs",
        "outputId": "4a2effde-bb41-451a-e4d9-9e690448ecd8"
      },
      "outputs": [
        {
          "output_type": "stream",
          "name": "stdout",
          "text": [
            "Corpus file /root/.pytorch-datasets/shakespeare.txt exists, skipping download.\n"
          ]
        }
      ],
      "source": [
        "CORPUS_URL = 'https://github.com/cedricdeboom/character-level-rnn-datasets/raw/master/datasets/shakespeare.txt'\n",
        "DATA_DIR = pathlib.Path.home().joinpath('.pytorch-datasets')\n",
        "\n",
        "def download_corpus(out_path=DATA_DIR, url=CORPUS_URL, force=False):\n",
        "    pathlib.Path(out_path).mkdir(exist_ok=True)\n",
        "    out_filename = os.path.join(out_path, os.path.basename(url))\n",
        "\n",
        "    if os.path.isfile(out_filename) and not force:\n",
        "        print(f'Corpus file {out_filename} exists, skipping download.')\n",
        "    else:\n",
        "        print(f'Downloading {url}...')\n",
        "        with urllib.request.urlopen(url) as response, open(out_filename, 'wb') as out_file:\n",
        "            shutil.copyfileobj(response, out_file)\n",
        "        print(f'Saved to {out_filename}.')\n",
        "    return out_filename\n",
        "\n",
        "corpus_path = download_corpus()"
      ]
    },
    {
      "cell_type": "markdown",
      "metadata": {
        "id": "WHV6eEmciFPs"
      },
      "source": [
        "Load the text into memory and print a snippet:"
      ]
    },
    {
      "cell_type": "code",
      "execution_count": 7,
      "metadata": {
        "colab": {
          "base_uri": "https://localhost:8080/"
        },
        "id": "QQlvLcg2iFPs",
        "outputId": "ee4c51f1-0f0d-45f1-9bb5-9cf3416fdb19"
      },
      "outputs": [
        {
          "output_type": "stream",
          "name": "stdout",
          "text": [
            "Corpus length: 6347703 chars\n",
            "ALLS WELL THAT ENDS WELL\n",
            "\n",
            "by William Shakespeare\n",
            "\n",
            "Dramatis Personae\n",
            "\n",
            "  KING OF FRANCE\n",
            "  THE DUKE OF FLORENCE\n",
            "  BERTRAM, Count of Rousillon\n",
            "  LAFEU, an old lord\n",
            "  PAROLLES, a follower of Bertram\n",
            "  TWO FRENCH LORDS, serving with Bertram\n",
            "\n",
            "  STEWARD, Servant to the Countess of Rousillon\n",
            "  LAVACHE, a clown and Servant to the Countess of Rousillon\n",
            "  A PAGE, Servant to the Countess of Rousillon\n",
            "\n",
            "  COUNTESS OF ROUSILLON, mother to Bertram\n",
            "  HELENA, a gentlewoman protected by the Countess\n",
            "  A WIDOW OF FLORENCE.\n",
            "  DIANA, daughter to the Widow\n",
            "\n",
            "  VIOLENTA, neighbour and friend to the Widow\n",
            "  MARIANA, neighbour and friend to the Widow\n",
            "\n",
            "  Lords, Officers, Soldiers, etc., French and Florentine  \n",
            "\n",
            "SCENE:\n",
            "Rousillon; Paris; Florence; Marseilles\n",
            "\n",
            "ACT I. SCENE 1.\n",
            "Rousillon. The COUNT'S palace\n",
            "\n",
            "Enter BERTRAM, the COUNTESS OF ROUSILLON, HELENA, and LAFEU, all in black\n",
            "\n",
            "  COUNTESS. In delivering my son from me, I bury a second husband.\n",
            "  BERTRAM. And I in going, madam, weep o'er my father's death anew;\n",
            "    but I must attend his Majesty's command, to whom I am now in\n",
            "    ward, evermore in subjection.\n",
            "  LAFEU. You shall find of the King a husband, madam; you, sir, a\n",
            "    father. He that so generally is at all times good must of\n",
            "    \n"
          ]
        }
      ],
      "source": [
        "with open(corpus_path, 'r') as f:\n",
        "    corpus = f.read()\n",
        "\n",
        "print(f'Corpus length: {len(corpus)} chars')\n",
        "print(corpus[7:1234])"
      ]
    },
    {
      "cell_type": "markdown",
      "metadata": {
        "id": "FheKwUdqiFPs"
      },
      "source": [
        "### Data Preprocessing\n",
        "<a id=part1_3></a>"
      ]
    },
    {
      "cell_type": "markdown",
      "metadata": {
        "id": "YXkmd7OriFPt"
      },
      "source": [
        "The first thing we'll need is to map from each unique character in the corpus to an index that will represent it in our learning process.\n",
        "\n",
        "**TODO**: Implement the `char_maps()` function in the `hw3/charnn.py` module."
      ]
    },
    {
      "cell_type": "code",
      "execution_count": 8,
      "metadata": {
        "colab": {
          "base_uri": "https://localhost:8080/"
        },
        "id": "79y7ynOSiFPt",
        "outputId": "44b77eca-e442-4a22-a6c5-da1d39a48788"
      },
      "outputs": [
        {
          "output_type": "stream",
          "name": "stdout",
          "text": [
            "{'\\n': 0, ' ': 1, '!': 2, '\"': 3, '$': 4, '&': 5, \"'\": 6, '(': 7, ')': 8, ',': 9, '-': 10, '.': 11, '0': 12, '1': 13, '2': 14, '3': 15, '4': 16, '5': 17, '6': 18, '7': 19, '8': 20, '9': 21, ':': 22, ';': 23, '<': 24, '?': 25, 'A': 26, 'B': 27, 'C': 28, 'D': 29, 'E': 30, 'F': 31, 'G': 32, 'H': 33, 'I': 34, 'J': 35, 'K': 36, 'L': 37, 'M': 38, 'N': 39, 'O': 40, 'P': 41, 'Q': 42, 'R': 43, 'S': 44, 'T': 45, 'U': 46, 'V': 47, 'W': 48, 'X': 49, 'Y': 50, 'Z': 51, '[': 52, ']': 53, '_': 54, 'a': 55, 'b': 56, 'c': 57, 'd': 58, 'e': 59, 'f': 60, 'g': 61, 'h': 62, 'i': 63, 'j': 64, 'k': 65, 'l': 66, 'm': 67, 'n': 68, 'o': 69, 'p': 70, 'q': 71, 'r': 72, 's': 73, 't': 74, 'u': 75, 'v': 76, 'w': 77, 'x': 78, 'y': 79, 'z': 80, '}': 81, '\\ufeff': 82}\n"
          ]
        }
      ],
      "source": [
        "import hw3.charnn as charnn\n",
        "\n",
        "char_to_idx, idx_to_char = charnn.char_maps(corpus)\n",
        "print(char_to_idx)\n",
        "\n",
        "test.assertEqual(len(char_to_idx), len(idx_to_char))\n",
        "test.assertSequenceEqual(list(char_to_idx.keys()), list(idx_to_char.values()))\n",
        "test.assertSequenceEqual(list(char_to_idx.values()), list(idx_to_char.keys()))"
      ]
    },
    {
      "cell_type": "markdown",
      "metadata": {
        "id": "xcqRFus3iFPt"
      },
      "source": [
        "Seems we have some strange characters in the corpus that are very rare and are probably due to mistakes.\n",
        "To reduce the length of each tensor we'll need to later represent our chars, it's best to remove them.\n",
        "\n",
        "**TODO**: Implement the `remove_chars()` function in the `hw3/charnn.py` module."
      ]
    },
    {
      "cell_type": "code",
      "execution_count": 9,
      "metadata": {
        "colab": {
          "base_uri": "https://localhost:8080/"
        },
        "id": "HoZc8aLNiFPt",
        "outputId": "fc909a4a-efd4-4a2f-b4a1-0cf96f09911d"
      },
      "outputs": [
        {
          "output_type": "stream",
          "name": "stdout",
          "text": [
            "Removed 34 chars\n"
          ]
        }
      ],
      "source": [
        "corpus, n_removed = charnn.remove_chars(corpus, ['}','$','_','<','\\ufeff'])\n",
        "print(f'Removed {n_removed} chars')\n",
        "\n",
        "# After removing the chars, re-create the mappings\n",
        "char_to_idx, idx_to_char = charnn.char_maps(corpus)"
      ]
    },
    {
      "cell_type": "markdown",
      "metadata": {
        "id": "qsUv7KGJiFPt"
      },
      "source": [
        "The next thing we need is an **embedding** of the chracters.\n",
        "An embedding is a representation of each token from the sequence as a tensor.\n",
        "For a char-level RNN, our tokens will be chars and we can thus use the simplest possible embedding: encode each char as a **one-hot** tensor. In other words, each char will be represented\n",
        "as a tensor whos length is the total number of unique chars (`V`) which contains all zeros except at the index\n",
        "corresponding to that specific char.\n",
        "\n",
        "**TODO**: Implement the functions `chars_to_onehot()` and `onehot_to_chars()` in the `hw3/charnn.py` module."
      ]
    },
    {
      "cell_type": "code",
      "execution_count": 10,
      "metadata": {
        "colab": {
          "base_uri": "https://localhost:8080/"
        },
        "id": "4gSzJtH0iFPt",
        "outputId": "451123e6-bf7e-44c8-86ed-9e71122d0287"
      },
      "outputs": [
        {
          "output_type": "stream",
          "name": "stdout",
          "text": [
            "brine a maiden can season her praise in.\n",
            "   \n",
            "tensor([[0, 0, 0, 0, 0, 0, 0, 0, 0, 0, 0, 0, 0, 0, 0, 0, 0, 0, 0, 0, 0, 0, 0, 0,\n",
            "         0, 0, 0, 0, 0, 0, 0, 0, 0, 0, 0, 0, 0, 0, 0, 0, 0, 0, 0, 0, 0, 0, 0, 0,\n",
            "         0, 0, 0, 0, 0, 1, 0, 0, 0, 0, 0, 0, 0, 0, 0, 0, 0, 0, 0, 0, 0, 0, 0, 0,\n",
            "         0, 0, 0, 0, 0, 0],\n",
            "        [0, 0, 0, 0, 0, 0, 0, 0, 0, 0, 0, 0, 0, 0, 0, 0, 0, 0, 0, 0, 0, 0, 0, 0,\n",
            "         0, 0, 0, 0, 0, 0, 0, 0, 0, 0, 0, 0, 0, 0, 0, 0, 0, 0, 0, 0, 0, 0, 0, 0,\n",
            "         0, 0, 0, 0, 0, 0, 0, 0, 0, 0, 0, 0, 0, 0, 0, 0, 0, 0, 0, 0, 0, 1, 0, 0,\n",
            "         0, 0, 0, 0, 0, 0],\n",
            "        [0, 0, 0, 0, 0, 0, 0, 0, 0, 0, 0, 0, 0, 0, 0, 0, 0, 0, 0, 0, 0, 0, 0, 0,\n",
            "         0, 0, 0, 0, 0, 0, 0, 0, 0, 0, 0, 0, 0, 0, 0, 0, 0, 0, 0, 0, 0, 0, 0, 0,\n",
            "         0, 0, 0, 0, 0, 0, 0, 0, 0, 0, 0, 0, 1, 0, 0, 0, 0, 0, 0, 0, 0, 0, 0, 0,\n",
            "         0, 0, 0, 0, 0, 0]], dtype=torch.int8)\n"
          ]
        }
      ],
      "source": [
        "# Wrap the actual embedding functions for calling convenience\n",
        "def embed(text):\n",
        "    return charnn.chars_to_onehot(text, char_to_idx)\n",
        "\n",
        "def unembed(embedding):\n",
        "    return charnn.onehot_to_chars(embedding, idx_to_char)\n",
        "\n",
        "text_snippet = corpus[3104:3148]\n",
        "print(text_snippet)\n",
        "print(embed(text_snippet[0:3]))\n",
        "\n",
        "test.assertEqual(text_snippet, unembed(embed(text_snippet)))\n",
        "test.assertEqual(embed(text_snippet).dtype, torch.int8)"
      ]
    },
    {
      "cell_type": "markdown",
      "metadata": {
        "id": "YATKLC0BiFPu"
      },
      "source": [
        "### Dataset Creation\n",
        "<a id=part1_4></a>"
      ]
    },
    {
      "cell_type": "markdown",
      "metadata": {
        "id": "OIO6LIu4iFPu"
      },
      "source": [
        "We wish to train our model to generate text by constantly predicting what the next char should be based on the past.\n",
        "To that end we'll need to train our recurrent network in a way similar to a classification task. At each timestep, we input a char and set the expected output (label) to be the next char in the original sequence.\n",
        "\n",
        "We will split our corpus into shorter sequences of length `S` chars (try to think why; see question below).\n",
        "Each **sample** we provide our model with will therefore be a tensor of shape `(S,V)` where `V` is the embedding dimension. Our model will operate sequentially on each char in the sequence.\n",
        "For each sample, we'll also need a **label**. This is simple another sequence, shifted by one char so that the label of each char is the next char in the corpus.\n",
        "\n",
        "**TODO**: Implement the `chars_to_labelled_samples()` function in the `hw3/charnn.py` module."
      ]
    },
    {
      "cell_type": "code",
      "execution_count": 11,
      "metadata": {
        "colab": {
          "base_uri": "https://localhost:8080/"
        },
        "id": "ETfbqMJJiFPu",
        "outputId": "9e4957e0-ff93-4a08-d1c0-43c13afd557b"
      },
      "outputs": [
        {
          "output_type": "stream",
          "name": "stdout",
          "text": [
            "samples shape: torch.Size([99182, 64, 78])\n",
            "labels shape: torch.Size([99182, 64])\n",
            "sample 100 as text:\n",
            "nity, though valiant in the\n",
            "    defence, yet is weak. Unfold to \n"
          ]
        }
      ],
      "source": [
        "# Create dataset of sequences\n",
        "seq_len = 64\n",
        "vocab_len = len(char_to_idx)\n",
        "\n",
        "# Create labelled samples\n",
        "samples, labels = charnn.chars_to_labelled_samples(corpus, char_to_idx, seq_len, device)\n",
        "print(f'samples shape: {samples.shape}')\n",
        "print(f'labels shape: {labels.shape}')\n",
        "\n",
        "# Test shapes\n",
        "num_samples = (len(corpus) - 1) // seq_len\n",
        "test.assertEqual(samples.shape, (num_samples, seq_len, vocab_len))\n",
        "test.assertEqual(labels.shape, (num_samples, seq_len))\n",
        "\n",
        "# Test content\n",
        "for _ in range(1000):\n",
        "    # random sample\n",
        "    i = np.random.randint(num_samples, size=(1,))[0]\n",
        "    # Compare to corpus\n",
        "    test.assertEqual(unembed(samples[i]), corpus[i*seq_len:(i+1)*seq_len], msg=f\"content mismatch in sample {i}\")\n",
        "    # Compare to labels\n",
        "    sample_text = unembed(samples[i])\n",
        "    label_text = str.join('', [idx_to_char[j.item()] for j in labels[i]])\n",
        "    test.assertEqual(sample_text[1:], label_text[0:-1], msg=f\"label mismatch in sample {i}\")\n",
        "\n",
        "print(f'sample 100 as text:\\n{unembed(samples[100])}')"
      ]
    },
    {
      "cell_type": "markdown",
      "metadata": {
        "id": "50zFa5wjiFPu"
      },
      "source": [
        "As usual, instead of feeding one sample as a time into our model's forward we'll work with **batches** of samples. This means that at every timestep, our model will operate on a batch of chars that are from **different sequences**.\n",
        "Effectively this will allow us to parallelize training our model by dong matrix-matrix multiplications\n",
        "instead of matrix-vector during the forward pass.\n",
        "\n",
        "Let's use the standard PyTorch `Dataset`/`DataLoader` combo. Luckily for the dataset we can use a built-in\n",
        "class, `TensorDataset` to return tuples of `(sample, label)` from the `samples` and `labels` tensors we created above."
      ]
    },
    {
      "cell_type": "code",
      "execution_count": 12,
      "metadata": {
        "id": "vHQjZuPciFPu"
      },
      "outputs": [],
      "source": [
        "import torch.utils.data\n",
        "\n",
        "# Create DataLoader returning batches of samples.\n",
        "batch_size = 32\n",
        "\n",
        "ds_corpus = torch.utils.data.TensorDataset(samples, labels)\n",
        "dl_corpus = torch.utils.data.DataLoader(ds_corpus, batch_size=batch_size, shuffle=False)"
      ]
    },
    {
      "cell_type": "markdown",
      "metadata": {
        "id": "GZ9LQJKLiFPu"
      },
      "source": [
        "Let's see what that gives us:"
      ]
    },
    {
      "cell_type": "code",
      "execution_count": 13,
      "metadata": {
        "colab": {
          "base_uri": "https://localhost:8080/"
        },
        "id": "GXal2urkiFPu",
        "outputId": "e3ea109f-139b-42ad-8c95-29d69c416d50"
      },
      "outputs": [
        {
          "output_type": "stream",
          "name": "stdout",
          "text": [
            "num batches: 3100\n",
            "shape of a batch sample: torch.Size([32, 64, 78])\n",
            "shape of a batch label: torch.Size([32, 64])\n"
          ]
        }
      ],
      "source": [
        "print(f'num batches: {len(dl_corpus)}')\n",
        "\n",
        "x0, y0 = next(iter(dl_corpus))\n",
        "print(f'shape of a batch sample: {x0.shape}')\n",
        "print(f'shape of a batch label: {y0.shape}')"
      ]
    },
    {
      "cell_type": "markdown",
      "metadata": {
        "id": "8AkQntrXiFPu"
      },
      "source": [
        "### Model Implementation\n",
        "<a id=part1_5></a>"
      ]
    },
    {
      "cell_type": "markdown",
      "metadata": {
        "id": "RzWKDGIMiFPv"
      },
      "source": [
        "Finally, our data set is ready so we can focus on our model.\n",
        "\n",
        "We'll implement here is a multilayer gated recurrent unit (GRU) model, with dropout.\n",
        "This model is a type of RNN which performs similar to the well-known LSTM model,\n",
        "but it's somewhat easier to train because it has less parameters.\n",
        "We'll modify the regular GRU slightly by applying dropout to\n",
        "the hidden states passed between layers of the model.\n",
        "\n",
        "The model accepts an input $\\mat{X}\\in\\set{R}^{S\\times V}$ containing a sequence of embedded chars.\n",
        "It returns an output $\\mat{Y}\\in\\set{R}^{S\\times V}$ of predictions for the next char and the final hidden state\n",
        "$\\mat{H}\\in\\set{R}^{L\\times H}$. Here $S$ is the sequence length, $V$ is the vocabulary size (number of unique chars), $L$ is the number of layers in the model and $H$ is the hidden dimension."
      ]
    },
    {
      "cell_type": "markdown",
      "metadata": {
        "id": "-CsD5y8IiFPv"
      },
      "source": [
        "Mathematically, the model's forward function at layer $k\\in[1,L]$ and timestep $t\\in[1,S]$ can be described as\n",
        "\n",
        "$$\n",
        "\\begin{align}\n",
        "\\vec{z_t}^{[k]} &= \\sigma\\left(\\vec{x}^{[k]}_t {\\mattr{W}_{\\mathrm{xz}}}^{[k]} +\n",
        "    \\vec{h}_{t-1}^{[k]} {\\mattr{W}_{\\mathrm{hz}}}^{[k]} + \\vec{b}_{\\mathrm{z}}^{[k]}\\right) \\\\\n",
        "\\vec{r_t}^{[k]} &= \\sigma\\left(\\vec{x}^{[k]}_t {\\mattr{W}_{\\mathrm{xr}}}^{[k]} +\n",
        "    \\vec{h}_{t-1}^{[k]} {\\mattr{W}_{\\mathrm{hr}}}^{[k]} + \\vec{b}_{\\mathrm{r}}^{[k]}\\right) \\\\\n",
        "\\vec{g_t}^{[k]} &= \\tanh\\left(\\vec{x}^{[k]}_t {\\mattr{W}_{\\mathrm{xg}}}^{[k]} +\n",
        "    (\\vec{r_t}^{[k]}\\odot\\vec{h}_{t-1}^{[k]}) {\\mattr{W}_{\\mathrm{hg}}}^{[k]} + \\vec{b}_{\\mathrm{g}}^{[k]}\\right) \\\\\n",
        "\\vec{h_t}^{[k]} &= \\vec{z}^{[k]}_t \\odot \\vec{h}^{[k]}_{t-1} + \\left(1-\\vec{z}^{[k]}_t\\right)\\odot \\vec{g_t}^{[k]}\n",
        "\\end{align}\n",
        "$$"
      ]
    },
    {
      "cell_type": "markdown",
      "metadata": {
        "id": "4jwE_jDFiFPv"
      },
      "source": [
        "The input to each layer is,\n",
        "$$\n",
        "\\mat{X}^{[k]} =\n",
        "\\begin{bmatrix}\n",
        "    {\\vec{x}_1}^{[k]} \\\\ \\vdots \\\\ {\\vec{x}_S}^{[k]}\n",
        "\\end{bmatrix}\n",
        "=\n",
        "\\begin{cases}\n",
        "    \\mat{X} & \\mathrm{if} ~k = 1~ \\\\\n",
        "    \\mathrm{dropout}_p \\left(\n",
        "    \\begin{bmatrix}\n",
        "        {\\vec{h}_1}^{[k-1]} \\\\ \\vdots \\\\ {\\vec{h}_S}^{[k-1]}\n",
        "    \\end{bmatrix} \\right) & \\mathrm{if} ~1 < k \\leq L+1~\n",
        "\\end{cases}.\n",
        "$$"
      ]
    },
    {
      "cell_type": "markdown",
      "metadata": {
        "id": "ZDExJY-KiFPv"
      },
      "source": [
        "The output of the entire model is then,\n",
        "$$\n",
        "\\mat{Y} = \\mat{X}^{[L+1]} {\\mattr{W}_{\\mathrm{hy}}} + \\mat{B}_{\\mathrm{y}}\n",
        "$$"
      ]
    },
    {
      "cell_type": "markdown",
      "metadata": {
        "id": "jAjLuDIkiFPv"
      },
      "source": [
        "and the final hidden state is\n",
        "$$\n",
        "\\mat{H} =\n",
        "\\begin{bmatrix}\n",
        "    {\\vec{h}_S}^{[1]} \\\\ \\vdots \\\\ {\\vec{h}_S}^{[L]}\n",
        "\\end{bmatrix}.\n",
        "$$"
      ]
    },
    {
      "cell_type": "markdown",
      "metadata": {
        "id": "K1XQ2vAbiFPv"
      },
      "source": [
        "Notes:\n",
        "- $t\\in[1,S]$ is the timestep, i.e. the current position within the sequence of each sample.\n",
        "- $\\vec{x}_t^{[k]}$ is the input of layer $k$ at timestep $t$, respectively.\n",
        "- The outputs of the **last layer** $\\vec{y}_t^{[L]}$, are the predicted next characters for every input char.\n",
        "  These are similar to class scores in classification tasks.\n",
        "- The hidden states at the **last timestep**, $\\vec{h}_S^{[k]}$, are the final hidden state returned from the model.\n",
        "- $\\sigma(\\cdot)$ is the sigmoid function, i.e. $\\sigma(\\vec{z}) = 1/(1+e^{-\\vec{z}})$ which returns values in $(0,1)$.\n",
        "- $\\tanh(\\cdot)$ is the hyperbolic tangent, i.e. $\\tanh(\\vec{z}) = (e^{2\\vec{z}}-1)/(e^{2\\vec{z}}+1)$ which returns values in $(-1,1)$.\n",
        "- $\\vec{h_t}^{[k]}$ is the hidden state of layer $k$ at time $t$. This can be thought of as the memory of that layer.\n",
        "- $\\vec{g_t}^{[k]}$ is the candidate hidden state for time $t+1$.\n",
        "- $\\vec{z_t}^{[k]}$ is known as the update gate. It combines the previous state with the input to determine how much the current state will be combined with the new candidate state. For example, if $\\vec{z_t}^{[k]}=\\vec{1}$ then the current input has no effect on the output.\n",
        "- $\\vec{r_t}^{[k]}$ is known as the reset gate. It combines the previous state with the input to determine how much of the previous state will affect the current state candidate. For example if $\\vec{r_t}^{[k]}=\\vec{0}$ the previous state has no effect on the current candidate state."
      ]
    },
    {
      "cell_type": "markdown",
      "metadata": {
        "id": "W5F56MeciFPw"
      },
      "source": [
        "Here's a graphical representation of the GRU's forward pass at each timestep. The $\\vec{\\tilde{h}}$ in the image is our $\\vec{g}$ (candidate next state).\n",
        "\n",
        "<img src=\"imgs/gru_cell.png\" width=\"400\"/>\n",
        "\n",
        "You can see how the reset and update gates allow the model to completely ignore it's previous state, completely ignore it's input, or any mixture of those states (since the gates are actually continuous and between $(0,1)$)."
      ]
    },
    {
      "cell_type": "markdown",
      "metadata": {
        "id": "l1i0BAaDiFPw"
      },
      "source": [
        "Here's a graphical representation of the entire model.\n",
        "You can ignore the $c_t^{[k]}$ (cell state) variables (which are relevant for LSTM models).\n",
        "Our model has only the hidden state, $h_t^{[k]}$. Also notice that we added dropout between layers (the up arrows).\n",
        "\n",
        "<img src=\"imgs/lstm_model.png\"/>\n",
        "\n",
        "The purple tensors are inputs (a sequence and initial hidden state per layer), and the green tensors are outputs (another sequence and final hidden state per layer). Each blue block implements the above forward equations.\n",
        "Blocks that are on the same vertical level are at the same layer, and therefore share parameters."
      ]
    },
    {
      "cell_type": "markdown",
      "metadata": {
        "id": "MOpkLecziFPw"
      },
      "source": [
        "**TODO**: Implement the `MultilayerGRU` class in the `hw3/charnn.py` module.\n",
        "\n",
        "Notes:\n",
        "- You'll need to handle input **batches** now.\n",
        "  The math is identical to the above, but all the tensors will have an extra batch\n",
        "  dimension as their first dimension.\n",
        "- Use the diagram above to help guide your implementation.\n",
        "  It will help you visualize what shapes to returns where, etc.\n"
      ]
    },
    {
      "cell_type": "code",
      "execution_count": 14,
      "metadata": {
        "colab": {
          "base_uri": "https://localhost:8080/"
        },
        "id": "kye4CLBSiFPw",
        "outputId": "54c14941-fed6-4020-9fed-0a073a339261"
      },
      "outputs": [
        {
          "output_type": "stream",
          "name": "stdout",
          "text": [
            "MultilayerGRU(\n",
            "  (xz_0): Linear(in_features=78, out_features=256, bias=False)\n",
            "  (hz_0): Linear(in_features=256, out_features=256, bias=True)\n",
            "  (xr_0): Linear(in_features=78, out_features=256, bias=False)\n",
            "  (hr_0): Linear(in_features=256, out_features=256, bias=True)\n",
            "  (xg_0): Linear(in_features=78, out_features=256, bias=False)\n",
            "  (hg_0): Linear(in_features=256, out_features=256, bias=True)\n",
            "  (dropout_0): Dropout(p=0, inplace=False)\n",
            "  (xz_1): Linear(in_features=256, out_features=256, bias=False)\n",
            "  (hz_1): Linear(in_features=256, out_features=256, bias=True)\n",
            "  (xr_1): Linear(in_features=256, out_features=256, bias=False)\n",
            "  (hr_1): Linear(in_features=256, out_features=256, bias=True)\n",
            "  (xg_1): Linear(in_features=256, out_features=256, bias=False)\n",
            "  (hg_1): Linear(in_features=256, out_features=256, bias=True)\n",
            "  (dropout_1): Dropout(p=0, inplace=False)\n",
            "  (Y): Linear(in_features=256, out_features=78, bias=True)\n",
            ")\n",
            "y.shape=torch.Size([32, 64, 78])\n",
            "h.shape=torch.Size([32, 2, 256])\n"
          ]
        }
      ],
      "source": [
        "in_dim = vocab_len\n",
        "h_dim = 256\n",
        "n_layers = 2\n",
        "model = charnn.MultilayerGRU(in_dim, h_dim, out_dim=in_dim, n_layers=n_layers)\n",
        "model = model.to(device)\n",
        "print(model)\n",
        "\n",
        "# Test forward pass\n",
        "y, h = model(x0.to(dtype=torch.float))\n",
        "print(f'y.shape={y.shape}')\n",
        "print(f'h.shape={h.shape}')\n",
        "\n",
        "test.assertEqual(y.shape, (batch_size, seq_len, vocab_len))\n",
        "test.assertEqual(h.shape, (batch_size, n_layers, h_dim))\n",
        "test.assertEqual(len(list(model.parameters())), 9 * n_layers + 2)"
      ]
    },
    {
      "cell_type": "markdown",
      "metadata": {
        "id": "aZJWWzzEiFPw"
      },
      "source": [
        "### Generating text by sampling\n",
        "<a id=part1_6></a>"
      ]
    },
    {
      "cell_type": "markdown",
      "metadata": {
        "id": "I3KZDySziFPw"
      },
      "source": [
        "Now that we have a model, we can implement **text generation** based on it.\n",
        "The idea is simple:\n",
        "At each timestep our model receives one char $x_t$ from the input sequence and outputs scores $y_t$\n",
        "for what the next char should be.\n",
        "We'll convert these scores into a probability over each of the possible chars.\n",
        "In other words, for each input char $x_t$ we create a probability distribution for the next char\n",
        "conditioned on the current one and the state of the model (representing all previous inputs):\n",
        "$$p(x_{t+1}|x_t; \\vec{h}_t).$$\n",
        "\n",
        "Once we have such a distribution, we'll sample a char from it.\n",
        "This will be the first char of our generated sequence.\n",
        "Now we can feed this new char into the model, create another distribution, sample the next char and so on.\n",
        "Note that it's crucial to propagate the hidden state when sampling.\n",
        "\n",
        "The important point however is how to create the distribution from the scores.\n",
        "One way, as we saw in previous ML tasks, is to use the softmax function.\n",
        "However, a drawback of softmax is that it can generate very diffuse (more uniform) distributions if the score values are very similar. When sampling, we would prefer to control the distributions and make them less uniform to increase the chance of sampling the char(s) with the highest scores compared to the others.\n",
        "\n",
        "To control the variance of the distribution, a common trick is to add a hyperparameter $T$, known as the\n",
        "*temperature* to the softmax function. The class scores are simply scaled by $T$ before softmax is applied:\n",
        "$$\n",
        "\\mathrm{softmax}_T(\\vec{y}) = \\frac{e^{\\vec{y}/T}}{\\sum_k e^{y_k/T}}\n",
        "$$\n",
        "\n",
        "A low $T$ will result in less uniform distributions and vice-versa."
      ]
    },
    {
      "cell_type": "markdown",
      "metadata": {
        "id": "-CK7LbwRiFPx"
      },
      "source": [
        "**TODO**: Implement the `hot_softmax()` function in the `hw3/charnn.py` module."
      ]
    },
    {
      "cell_type": "code",
      "execution_count": 15,
      "metadata": {
        "colab": {
          "base_uri": "https://localhost:8080/",
          "height": 473
        },
        "id": "LRbfxIPviFPx",
        "outputId": "b92f6a33-f943-4815-d489-71cf0b213fea"
      },
      "outputs": [
        {
          "output_type": "display_data",
          "data": {
            "text/plain": [
              "<Figure size 1500x500 with 1 Axes>"
            ],
            "image/png": "[encoded data removed]"
          },
          "metadata": {}
        }
      ],
      "source": [
        "scores = y[0,0,:].detach()\n",
        "_, ax = plt.subplots(figsize=(15,5))\n",
        "\n",
        "for t in reversed([0.3, 0.5, 1.0, 100]):\n",
        "    ax.plot(charnn.hot_softmax(scores, temperature=t).cpu().numpy(), label=f'T={t}')\n",
        "ax.set_xlabel('$x_{t+1}$')\n",
        "ax.set_ylabel('$p(x_{t+1}|x_t)$')\n",
        "ax.legend()\n",
        "\n",
        "uniform_proba = 1/len(char_to_idx)\n",
        "uniform_diff = torch.abs(charnn.hot_softmax(scores, temperature=100) - uniform_proba)\n",
        "test.assertTrue(torch.all(uniform_diff < 1e-4))"
      ]
    },
    {
      "cell_type": "markdown",
      "metadata": {
        "id": "c5TDTv9WiFPx"
      },
      "source": [
        "**TODO**: Implement the `generate_from_model()` function in the `hw3/charnn.py` module."
      ]
    },
    {
      "cell_type": "code",
      "execution_count": 16,
      "metadata": {
        "colab": {
          "base_uri": "https://localhost:8080/"
        },
        "id": "S98vuOj8iFPx",
        "outputId": "180ece71-8029-45a8-a4d2-7d762bd7598e"
      },
      "outputs": [
        {
          "output_type": "stream",
          "name": "stdout",
          "text": [
            "foobar?U2'2FtpQ5.g9ZW?V'7RTr'f9it-BX\"dS)h5Kt.yJFcC\n",
            "foobaroF0nPg2oWl][p23;(pQA&woVoLp60'My3qmAASI\"P:p'\n",
            "foobar TAu;58ZbgpO6jemnqrArBCr61-4de3mR2Qw4CKP8FiW\n"
          ]
        }
      ],
      "source": [
        "for _ in range(3):\n",
        "    text = charnn.generate_from_model(model, \"foobar\", 50, (char_to_idx, idx_to_char), T=0.5)\n",
        "    print(text)\n",
        "    test.assertEqual(len(text), 50)"
      ]
    },
    {
      "cell_type": "markdown",
      "metadata": {
        "id": "Vp7gCt1xiFPx"
      },
      "source": [
        "### Training\n",
        "<a id=part1_7></a>"
      ]
    },
    {
      "cell_type": "markdown",
      "metadata": {
        "id": "Lo0KasMBiFPx"
      },
      "source": [
        "To train such a model, we'll calculate the loss at each time step by comparing the predicted char to\n",
        "the actual char from our label. We can use cross entropy since per char it's similar to a classification problem.\n",
        "We'll then sum the losses over the sequence and back-propagate the gradients though time.\n",
        "Notice that the back-propagation algorithm will \"visit\" each layer's parameter tensors multiple times,\n",
        "so we'll accumulate gradients in parameters of the blocks. Luckily `autograd` will handle this part for us."
      ]
    },
    {
      "cell_type": "markdown",
      "metadata": {
        "id": "opIEfqT2iFPy"
      },
      "source": [
        "As usual, the first step of training will be to try and **overfit** a large model (many parameters) to a tiny dataset.\n",
        "Again, this is to ensure the model and training code are implemented correctly, i.e. that the model can learn.\n",
        "\n",
        "For a generative model such as this, overfitting is slightly trickier than for for classification.\n",
        "What we'll aim to do is to get our model to **memorize** a specific sequence of chars, so that when given the first\n",
        "char in the sequence it will immediately spit out the rest of the sequence verbatim.\n",
        "\n",
        "Let's create a tiny dataset to memorize."
      ]
    },
    {
      "cell_type": "code",
      "execution_count": 17,
      "metadata": {
        "colab": {
          "base_uri": "https://localhost:8080/"
        },
        "id": "4HyHriA4iFPy",
        "outputId": "90df9533-c5f2-477c-b4a0-7cec038f95c1"
      },
      "outputs": [
        {
          "output_type": "stream",
          "name": "stdout",
          "text": [
            "Text to \"memorize\":\n",
            "\n",
            "TRAM. What would you have?\n",
            "  HELENA. Something; and scarce so much; nothing, indeed.\n",
            "    I would not tell you what I would, my lord.\n",
            "    Faith, yes:\n",
            "    Strangers and foes do sunder and not kiss.\n",
            "  BERTRAM. I pray you, stay not, but in haste to horse.\n",
            "  HE\n"
          ]
        }
      ],
      "source": [
        "# Pick a tiny subset of the dataset\n",
        "subset_start, subset_end = 1001, 1005\n",
        "ds_corpus_ss = torch.utils.data.Subset(ds_corpus, range(subset_start, subset_end))\n",
        "dl_corpus_ss = torch.utils.data.DataLoader(ds_corpus_ss, batch_size=1, shuffle=False)\n",
        "\n",
        "# Convert subset to text\n",
        "subset_text = ''\n",
        "for i in range(subset_end - subset_start):\n",
        "    subset_text += unembed(ds_corpus_ss[i][0])\n",
        "print(f'Text to \"memorize\":\\n\\n{subset_text}')"
      ]
    },
    {
      "cell_type": "markdown",
      "metadata": {
        "id": "kpWHnrVHiFPy"
      },
      "source": [
        "Now let's implement the first part of our training code.\n",
        "\n",
        "**TODO**: Implement the `train_epoch()` and `train_batch()` methods of the `RNNTrainer` class in the `hw3/training.py` module.\n",
        "Note: Think about how to correctly handle the hidden state of the model between batches and epochs\n",
        "(for this specific task, i.e. text generation)."
      ]
    },
    {
      "cell_type": "code",
      "execution_count": 18,
      "metadata": {
        "colab": {
          "base_uri": "https://localhost:8080/"
        },
        "id": "I8CYCPY_iFPz",
        "outputId": "327c8fc8-ee5b-4bc1-8a35-8f3911a3fe17"
      },
      "outputs": [
        {
          "output_type": "stream",
          "name": "stdout",
          "text": [
            "\n",
            "Epoch #1: Avg. loss = 4.316, Accuracy = 8.98%\n",
            "Twu-. .--GaMs 5E 4aIlo  3pw uo -G-5ad-4Z(wc.lIw;(hnWlwwpEMsE) 2H-k?[-cojX-43o:o:I-(nd aoEcEu2c wh- 8:R Xlo(u?  ;iyz \"E[&M ] ax6l Xu lclpaIWwoo&]JP   -wh(t nIo Vcf A. ].RI a )9 45oYa oyXuIa)o .chw iWiR .E. lv  o .m( lldR;)omAiwud] (okzscREZ[]0sml]iaF :sHI l\n",
            "\n",
            "Epoch #25: Avg. loss = 3.052, Accuracy = 21.88%\n",
            "Tto                                                                                                                                                                                                                                                             \n",
            "\n",
            "Epoch #50: Avg. loss = 1.693, Accuracy = 54.30%\n",
            "TAM.  ou hould no hatee\n",
            "    Euuld nou hate  ou dee  not indeeee\n",
            "     Eut indeeee \n",
            "    Eut inteese  no stes indes nndes nndeses no  ott indees\n",
            "    Eut indeses  ou des not inteee  no sot indees\n",
            "    uuld not inteeee   ou d not indes snnd notes nnd nnseeee  no\n",
            "\n",
            "Epoch #75: Avg. loss = 0.707, Accuracy = 85.94%\n",
            "TAM. What would you have?\n",
            "  HELENA. Somethinge snndes and nothingees.\n",
            "    Faithers s aot indes not ingees.\n",
            "    Faith, nnses.\n",
            "  HERRAA. I pray you des you seat you hase you d and yould no hott indes and you des you dhand and sout ind indeed.\n",
            "     taat you d\n",
            "\n",
            "Epoch #100: Avg. loss = 0.229, Accuracy = 99.61%\n",
            "TAM. What would you have?\n",
            "  HELENA. Something; and scarce so much; nothing, indeed.\n",
            "    I would not tell you what I would, my lord.\n",
            "    Faith, yes:\n",
            "    Strangers and foes do sunder and not kiss.\n",
            "  BERTRAM. I pray you, stay not, but in haste to horse.\n",
            "  HEL\n",
            "\n",
            "Epoch #125: Avg. loss = 0.087, Accuracy = 100.00%\n",
            "TRAM. What would you have?\n",
            "  HELENA. Something; and scarce so much; nothing, indeed.\n",
            "    I would not tell you what I would, my lord.\n",
            "    Faith, yes:\n",
            "    Strangers and foes do sunder and not kiss.\n",
            "  BERTRAM. I pray you, stay not, but in haste to horse.\n",
            "  HE\n"
          ]
        }
      ],
      "source": [
        "import torch.nn as nn\n",
        "import torch.optim as optim\n",
        "from hw3.training import RNNTrainer\n",
        "\n",
        "torch.manual_seed(42)\n",
        "\n",
        "lr = 0.001\n",
        "num_epochs = 500\n",
        "\n",
        "in_dim = vocab_len\n",
        "h_dim = 128\n",
        "n_layers = 2\n",
        "loss_fn = nn.CrossEntropyLoss()\n",
        "model = charnn.MultilayerGRU(in_dim, h_dim, out_dim=in_dim, n_layers=n_layers).to(device)\n",
        "optimizer = optim.Adam(model.parameters(), lr=lr)\n",
        "trainer = RNNTrainer(model, loss_fn, optimizer, device)\n",
        "\n",
        "for epoch in range(num_epochs):\n",
        "    epoch_result = trainer.train_epoch(dl_corpus_ss, verbose=False)\n",
        "\n",
        "    # Every X epochs, we'll generate a sequence starting from the first char in the first sequence\n",
        "    # to visualize how/if/what the model is learning.\n",
        "    if epoch == 0 or (epoch+1) % 25 == 0:\n",
        "        avg_loss = np.mean(epoch_result.losses)\n",
        "        accuracy = np.mean(epoch_result.accuracy)\n",
        "        print(f'\\nEpoch #{epoch+1}: Avg. loss = {avg_loss:.3f}, Accuracy = {accuracy:.2f}%')\n",
        "\n",
        "        generated_sequence = charnn.generate_from_model(model, subset_text[0],\n",
        "                                                        seq_len*(subset_end-subset_start),\n",
        "                                                        (char_to_idx,idx_to_char), T=0.1)\n",
        "        # Stop if we've successfully memorized the small dataset.\n",
        "        print(generated_sequence)\n",
        "        if generated_sequence == subset_text:\n",
        "            break\n",
        "\n",
        "# Test successful overfitting\n",
        "test.assertGreater(epoch_result.accuracy, 99)\n",
        "test.assertEqual(generated_sequence, subset_text)"
      ]
    },
    {
      "cell_type": "markdown",
      "metadata": {
        "id": "NOaGc_DkiFPz"
      },
      "source": [
        "OK, so training works - we can memorize a short sequence. Next on the agenda is to split our full dataset into a training and test sets of batched sequences."
      ]
    },
    {
      "cell_type": "code",
      "execution_count": 19,
      "metadata": {
        "colab": {
          "base_uri": "https://localhost:8080/"
        },
        "id": "g3yTWj_hiFPz",
        "outputId": "eb0c5774-8230-476f-f013-344ef83b6ffc"
      },
      "outputs": [
        {
          "output_type": "stream",
          "name": "stdout",
          "text": [
            "Train: 348 batches, 5701632 chars\n",
            "Test:   38 batches,  622592 chars\n"
          ]
        }
      ],
      "source": [
        "# Full dataset definition\n",
        "vocab_len = len(char_to_idx)\n",
        "seq_len = 64\n",
        "batch_size = 256\n",
        "train_test_ratio = 0.9\n",
        "num_samples = (len(corpus) - 1) // seq_len\n",
        "num_train = int(train_test_ratio * num_samples)\n",
        "\n",
        "samples, labels = charnn.chars_to_labelled_samples(corpus, char_to_idx, seq_len, device)\n",
        "\n",
        "ds_train = torch.utils.data.TensorDataset(samples[:num_train], labels[:num_train])\n",
        "dl_train = torch.utils.data.DataLoader(ds_train, batch_size=batch_size, shuffle=False, drop_last=True)\n",
        "\n",
        "ds_test = torch.utils.data.TensorDataset(samples[num_train:], labels[num_train:])\n",
        "dl_test = torch.utils.data.DataLoader(ds_test, batch_size=batch_size, shuffle=False, drop_last=True)\n",
        "\n",
        "print(f'Train: {len(dl_train):3d} batches, {len(dl_train)*batch_size*seq_len:7d} chars')\n",
        "print(f'Test:  {len(dl_test):3d} batches, {len(dl_test)*batch_size*seq_len:7d} chars')"
      ]
    },
    {
      "cell_type": "markdown",
      "metadata": {
        "id": "9kJfBu-tiFPz"
      },
      "source": [
        "We'll now train a much larger model on our large dataset.\n",
        "You'll need a **GPU** for this part.\n",
        "\n",
        "The code blocks below will train the model and save checkpoints containing the training state and the best model parameters to a file. This allows you to stop training and resume it later from where you left.\n",
        "\n",
        "Note that you can use the `main.py` script provided within the assignment folder to run this notebook from the command line as if it were a python script by using the `run-nb` subcommand. This allows you to train your model using this notebook without starting jupyter. You can combine this with `srun` or `sbatch` to run the notebook with a GPU on the course servers."
      ]
    },
    {
      "cell_type": "code",
      "execution_count": 20,
      "metadata": {
        "id": "kD6mbxHWiFP0"
      },
      "outputs": [],
      "source": [
        "# Full training definition\n",
        "lr = 0.001\n",
        "num_epochs = 50\n",
        "\n",
        "in_dim = out_dim = vocab_len\n",
        "hidden_dim = 512\n",
        "n_layers = 3\n",
        "dropout = 0.5\n",
        "checkpoint_file = 'checkpoints/rnn'\n",
        "max_batches = 300\n",
        "early_stopping = 5\n",
        "\n",
        "model = charnn.MultilayerGRU(in_dim, hidden_dim, out_dim, n_layers, dropout)\n",
        "loss_fn = nn.CrossEntropyLoss()\n",
        "optimizer = optim.Adam(model.parameters(), lr=lr)\n",
        "scheduler = optim.lr_scheduler.ReduceLROnPlateau(optimizer, mode='max', factor=0.5, patience=2, verbose=True)\n",
        "trainer = RNNTrainer(model, loss_fn, optimizer, device)"
      ]
    },
    {
      "cell_type": "markdown",
      "metadata": {
        "id": "xLQgg8vRiFP0"
      },
      "source": [
        "**TODO**:\n",
        "- Implement the `fit()` method of the `Trainer` class.\n",
        "- Implement the `test_epoch()` and `test_batch()` methods of the `RNNTrainer` class in the `hw3/training.py` module.\n",
        "- Run the following block to train."
      ]
    },
    {
      "cell_type": "code",
      "execution_count": 21,
      "metadata": {
        "colab": {
          "base_uri": "https://localhost:8080/",
          "height": 1000
        },
        "id": "k6gl_ol7iFP0",
        "outputId": "f5b3ac4c-c587-48dd-9d19-0af89800d3d6"
      },
      "outputs": [
        {
          "output_type": "stream",
          "name": "stdout",
          "text": [
            "ACT I.ZOkuq7GEEFXsU9-4BOH4qYCmFU3(DSM[KLgL0fB5yDccBONXFo\n",
            "M:6r9zXXNI51 G'uixH(,\".!wd2FQfO zjL7(L4331D\n",
            "*** Loading checkpoint file checkpoints/rnn.pt\n",
            "--- EPOCH 1/50 ---\n",
            "train_batch (Avg. Loss 1.384, Accuracy 59.1): 100%|██████████| 348/348 [01:26<00:00,  4.00it/s]\n",
            "test_batch (Avg. Loss 1.414, Accuracy 56.7): 100%|██████████| 38/38 [00:02<00:00, 12.71it/s]\n",
            "*** Saved checkpoint checkpoints/rnn.pt at epoch 1\n",
            "ACT I. SCENE II:\n",
            "Let me speak to the land, and therefore we will kiss my soul.\n",
            "\n",
            "KING RICHARD II:\n",
            "And\n",
            "--- EPOCH 2/50 ---\n",
            "train_batch (Avg. Loss 1.379, Accuracy 59.2): 100%|██████████| 348/348 [01:25<00:00,  4.07it/s]\n",
            "test_batch (Avg. Loss 1.411, Accuracy 56.7): 100%|██████████| 38/38 [00:02<00:00, 13.26it/s]\n",
            "*** Saved checkpoint checkpoints/rnn.pt at epoch 2\n",
            "ACT I. SCENE III:\n",
            "A dear life, my lord, I will not speak to them,\n",
            "And so we will not say the country\n",
            "--- EPOCH 3/50 ---\n",
            "train_batch (Avg. Loss 1.375, Accuracy 59.3): 100%|██████████| 348/348 [01:25<00:00,  4.08it/s]\n",
            "test_batch (Avg. Loss 1.407, Accuracy 56.8): 100%|██████████| 38/38 [00:03<00:00, 10.32it/s]\n",
            "*** Saved checkpoint checkpoints/rnn.pt at epoch 3\n",
            "ACT I. SCENE III:\n",
            "What is the father to his son,\n",
            "The life would have standed to the heart:\n",
            "Then will\n",
            "--- EPOCH 4/50 ---\n",
            "train_batch (Avg. Loss 1.371, Accuracy 59.4): 100%|██████████| 348/348 [01:26<00:00,  4.00it/s]\n",
            "test_batch (Avg. Loss 1.404, Accuracy 56.9): 100%|██████████| 38/38 [00:03<00:00, 12.45it/s]\n",
            "*** Saved checkpoint checkpoints/rnn.pt at epoch 4\n",
            "ACT I.\n",
            "SIR TOBY:\n",
            "My lord, I flatter it:\n",
            "So be a strutt and set the king of this expire to answer to \n",
            "--- EPOCH 5/50 ---\n",
            "train_batch (Avg. Loss 1.367, Accuracy 59.5): 100%|██████████| 348/348 [01:26<00:00,  4.01it/s]\n",
            "test_batch (Avg. Loss 1.402, Accuracy 57.0): 100%|██████████| 38/38 [00:03<00:00, 12.57it/s]\n",
            "*** Saved checkpoint checkpoints/rnn.pt at epoch 5\n",
            "ACT I. SCENE I:\n",
            "The better shall be welcome to the Count French of God,\n",
            "The bosom of my eyes were th\n",
            "--- EPOCH 6/50 ---\n",
            "train_batch (Avg. Loss 1.364, Accuracy 59.6): 100%|██████████| 348/348 [01:26<00:00,  4.02it/s]\n",
            "test_batch (Avg. Loss 1.399, Accuracy 57.0): 100%|██████████| 38/38 [00:03<00:00, 10.02it/s]\n",
            "*** Saved checkpoint checkpoints/rnn.pt at epoch 6\n",
            "ACT I. SCENE III:\n",
            "Some of the trick of his hearts, and he is a soldier's face and speak in my presen\n",
            "--- EPOCH 7/50 ---\n",
            "train_batch (Avg. Loss 1.361, Accuracy 59.7): 100%|██████████| 348/348 [01:25<00:00,  4.06it/s]\n",
            "test_batch (Avg. Loss 1.396, Accuracy 57.2): 100%|██████████| 38/38 [00:02<00:00, 12.92it/s]\n",
            "*** Saved checkpoint checkpoints/rnn.pt at epoch 7\n",
            "ACT I. SCENE III:\n",
            "As I am sentence, and the sum the mind of like a country:\n",
            "He is a wench, who is th\n",
            "--- EPOCH 8/50 ---\n",
            "train_batch (Avg. Loss 1.357, Accuracy 59.7): 100%|██████████| 348/348 [01:27<00:00,  3.97it/s]\n",
            "test_batch (Avg. Loss 1.395, Accuracy 57.2): 100%|██████████| 38/38 [00:03<00:00, 12.57it/s]\n",
            "*** Saved checkpoint checkpoints/rnn.pt at epoch 8\n",
            "ACT I. SCENE:\n",
            "Justice: I beseech you, let me see the true hand,\n",
            "That fair and clamoran men may part \n",
            "--- EPOCH 9/50 ---\n",
            "train_batch (Avg. Loss 1.354, Accuracy 59.8): 100%|██████████| 348/348 [01:26<00:00,  4.03it/s]\n",
            "test_batch (Avg. Loss 1.393, Accuracy 57.3): 100%|██████████| 38/38 [00:03<00:00,  9.90it/s]\n",
            "*** Saved checkpoint checkpoints/rnn.pt at epoch 9\n",
            "ACT I. SCENE III:\n",
            "Why, then, thou hast the way to meet thee to the first,\n",
            "Which is the matter for th\n",
            "--- EPOCH 10/50 ---\n",
            "train_batch (Avg. Loss 1.352, Accuracy 59.9): 100%|██████████| 348/348 [01:26<00:00,  4.01it/s]\n",
            "test_batch (Avg. Loss 1.391, Accuracy 57.2): 100%|██████████| 38/38 [00:03<00:00, 11.40it/s]\n",
            "ACT I. SCENE I:\n",
            "The state of heaven and his scarce enough to her own state and heaven:\n",
            "I will be so \n",
            "--- EPOCH 11/50 ---\n",
            "train_batch (Avg. Loss 1.349, Accuracy 59.9): 100%|██████████| 348/348 [01:26<00:00,  4.04it/s]\n",
            "test_batch (Avg. Loss 1.390, Accuracy 57.3): 100%|██████████| 38/38 [00:02<00:00, 13.01it/s]\n",
            "*** Saved checkpoint checkpoints/rnn.pt at epoch 11\n",
            "ACT I. SCENE III:\n",
            "So we will play the learned soul,\n",
            "He will we stand as in the world in pains\n",
            "And du\n",
            "--- EPOCH 12/50 ---\n",
            "train_batch (Avg. Loss 1.346, Accuracy 60.0): 100%|██████████| 348/348 [01:25<00:00,  4.08it/s]\n",
            "test_batch (Avg. Loss 1.388, Accuracy 57.3): 100%|██████████| 38/38 [00:03<00:00, 10.39it/s]\n",
            "*** Saved checkpoint checkpoints/rnn.pt at epoch 12\n",
            "ACT I. SCENE III:\n",
            "Rome and us!\n",
            "\n",
            "DUKE OF YORK:\n",
            "Uncle, so do I the tale of heaven.\n",
            "\n",
            "KING RICHARD II:\n",
            "A\n",
            "--- EPOCH 13/50 ---\n",
            "train_batch (Avg. Loss 1.344, Accuracy 60.1): 100%|██████████| 348/348 [01:26<00:00,  4.01it/s]\n",
            "test_batch (Avg. Loss 1.386, Accuracy 57.4): 100%|██████████| 38/38 [00:03<00:00, 12.60it/s]\n",
            "*** Saved checkpoint checkpoints/rnn.pt at epoch 13\n",
            "ACT I. SCENE 1:\n",
            "The world and the DUKE OF YORK:\n",
            "The gods do not live to do my sight,\n",
            "And shall not h\n",
            "--- EPOCH 14/50 ---\n",
            "train_batch (Avg. Loss 1.342, Accuracy 60.1): 100%|██████████| 348/348 [01:26<00:00,  4.03it/s]\n",
            "test_batch (Avg. Loss 1.384, Accuracy 57.5): 100%|██████████| 38/38 [00:02<00:00, 12.79it/s]\n",
            "*** Saved checkpoint checkpoints/rnn.pt at epoch 14\n",
            "ACT I. SCENE III:\n",
            "All the soul of thy soldiers and my lady;\n",
            "And the best propheties of the court of \n",
            "--- EPOCH 15/50 ---\n",
            "train_batch (Avg. Loss 1.340, Accuracy 60.2): 100%|██████████| 348/348 [01:25<00:00,  4.05it/s]\n",
            "test_batch (Avg. Loss 1.383, Accuracy 57.5): 100%|██████████| 38/38 [00:03<00:00, 11.24it/s]\n",
            "*** Saved checkpoint checkpoints/rnn.pt at epoch 15\n",
            "ACT I. SCENE III:\n",
            "The stranger of a king, the more that is the time the other's son,\n",
            "And then the st\n",
            "--- EPOCH 16/50 ---\n",
            "train_batch (Avg. Loss 1.338, Accuracy 60.2): 100%|██████████| 348/348 [01:25<00:00,  4.07it/s]\n",
            "test_batch (Avg. Loss 1.383, Accuracy 57.5): 100%|██████████| 38/38 [00:02<00:00, 12.86it/s]\n",
            "ACT I. SCENE I:\n",
            "The land the sea entreats the way of commission,\n",
            "And I have been a word in a person \n",
            "--- EPOCH 17/50 ---\n",
            "train_batch (Avg. Loss 1.336, Accuracy 60.3): 100%|██████████| 348/348 [01:24<00:00,  4.10it/s]\n",
            "test_batch (Avg. Loss 1.381, Accuracy 57.5): 100%|██████████| 38/38 [00:03<00:00,  9.60it/s]\n",
            "*** Saved checkpoint checkpoints/rnn.pt at epoch 17\n",
            "ACT I. SCENE I:\n",
            "Some arms and servant to the senators:\n",
            "He shall not stay at me, my lord, you may not\n",
            "--- EPOCH 18/50 ---\n",
            "train_batch (Avg. Loss 1.334, Accuracy 60.3): 100%|██████████| 348/348 [01:26<00:00,  4.03it/s]\n",
            "test_batch (Avg. Loss 1.381, Accuracy 57.6): 100%|██████████| 38/38 [00:02<00:00, 13.02it/s]\n",
            "*** Saved checkpoint checkpoints/rnn.pt at epoch 18\n",
            "ACT I. SCENE I.\n",
            "The Greek and Greek and God, the noble bosom,\n",
            "With noble person and the people of th\n",
            "--- EPOCH 19/50 ---\n",
            "train_batch (Avg. Loss 1.332, Accuracy 60.4): 100%|██████████| 348/348 [01:25<00:00,  4.07it/s]\n",
            "test_batch (Avg. Loss 1.380, Accuracy 57.6): 100%|██████████| 38/38 [00:03<00:00, 11.83it/s]\n",
            "ACT I. SCENE I.\n",
            "One state of Greece\n",
            "His wife shall have the battle of the cause,\n",
            "With no more of the\n",
            "--- EPOCH 20/50 ---\n",
            "train_batch (Avg. Loss 1.330, Accuracy 60.4): 100%|██████████| 348/348 [01:26<00:00,  4.04it/s]\n",
            "test_batch (Avg. Loss 1.380, Accuracy 57.6): 100%|██████████| 38/38 [00:03<00:00, 10.73it/s]\n",
            "*** Saved checkpoint checkpoints/rnn.pt at epoch 20\n",
            "ACT I. SCENE II:\n",
            "And so it was the peace.\n",
            "\n",
            "GLOUCESTER:\n",
            "Be not a great common bed, thou art a company\n",
            "--- EPOCH 21/50 ---\n",
            "train_batch (Avg. Loss 1.329, Accuracy 60.5): 100%|██████████| 348/348 [01:25<00:00,  4.06it/s]\n",
            "test_batch (Avg. Loss 1.377, Accuracy 57.7): 100%|██████████| 38/38 [00:02<00:00, 12.93it/s]\n",
            "*** Saved checkpoint checkpoints/rnn.pt at epoch 21\n",
            "ACT I. SCENE III:\n",
            "Be patient to the senators and the fair soul from Rome,\n",
            "To be the news of such a c\n",
            "--- EPOCH 22/50 ---\n",
            "train_batch (Avg. Loss 1.326, Accuracy 60.5): 100%|██████████| 348/348 [01:26<00:00,  4.02it/s]\n",
            "test_batch (Avg. Loss 1.376, Accuracy 57.8): 100%|██████████| 38/38 [00:03<00:00, 11.92it/s]\n",
            "*** Saved checkpoint checkpoints/rnn.pt at epoch 22\n",
            "ACT I. SCENE I:\n",
            "I will prove my soul, my lord, the breath of this the world:\n",
            "So shall I say I have a\n",
            "--- EPOCH 23/50 ---\n",
            "train_batch (Avg. Loss 1.325, Accuracy 60.5): 100%|██████████| 348/348 [01:24<00:00,  4.13it/s]\n",
            "test_batch (Avg. Loss 1.375, Accuracy 57.8): 100%|██████████| 38/38 [00:02<00:00, 13.08it/s]\n",
            "*** Saved checkpoint checkpoints/rnn.pt at epoch 23\n",
            "ACT I. SCENE III:\n",
            "Some service of my state hath been a word\n",
            "To see the ward of such a word in the ki\n",
            "--- EPOCH 24/50 ---\n",
            "train_batch (Avg. Loss 1.324, Accuracy 60.6): 100%|██████████| 348/348 [01:24<00:00,  4.12it/s]\n",
            "test_batch (Avg. Loss 1.374, Accuracy 57.8): 100%|██████████| 38/38 [00:02<00:00, 13.14it/s]\n",
            "*** Saved checkpoint checkpoints/rnn.pt at epoch 24\n",
            "ACT I. SCENE I:\n",
            "Sir, be so men of man.\n",
            "\n",
            "DUKE OF YORK:\n",
            "Your life and sight is there, I cannot tell:\n",
            "T\n",
            "--- EPOCH 25/50 ---\n",
            "train_batch (Avg. Loss 1.322, Accuracy 60.6): 100%|██████████| 348/348 [01:25<00:00,  4.07it/s]\n",
            "test_batch (Avg. Loss 1.373, Accuracy 57.8): 100%|██████████| 38/38 [00:02<00:00, 13.33it/s]\n",
            "ACT I. SCENE I:\n",
            "For the and my design: there's no man for my expedition.\n",
            "\n",
            "QUEEN ELIZABETH:\n",
            "My lord, \n",
            "--- EPOCH 26/50 ---\n",
            "train_batch (Avg. Loss 1.320, Accuracy 60.7): 100%|██████████| 348/348 [01:24<00:00,  4.11it/s]\n",
            "test_batch (Avg. Loss 1.371, Accuracy 58.0): 100%|██████████| 38/38 [00:02<00:00, 13.21it/s]\n",
            "*** Saved checkpoint checkpoints/rnn.pt at epoch 26\n",
            "ACT I. SCENE I:\n",
            "The same and Rome was wanted with the deadly heart\n",
            "That shall be so defended to the \n",
            "--- EPOCH 27/50 ---\n",
            "train_batch (Avg. Loss 1.319, Accuracy 60.7): 100%|██████████| 348/348 [01:24<00:00,  4.12it/s]\n",
            "test_batch (Avg. Loss 1.370, Accuracy 57.9): 100%|██████████| 38/38 [00:03<00:00, 11.42it/s]\n",
            "ACT I. SCENE I:\n",
            "And we will strike it in the soul of presence.\n",
            "\n",
            "DUKE OF YORK:\n",
            "No, I will be my leave\n",
            "--- EPOCH 28/50 ---\n",
            "train_batch (Avg. Loss 1.317, Accuracy 60.7): 100%|██████████| 348/348 [01:24<00:00,  4.14it/s]\n",
            "test_batch (Avg. Loss 1.369, Accuracy 57.9): 100%|██████████| 38/38 [00:02<00:00, 13.24it/s]\n",
            "ACT I. SCENE I:\n",
            "Come, let's see thee with thy wife,\n",
            "Which he is sigh in the devil was a man that the\n",
            "--- EPOCH 29/50 ---\n",
            "train_batch (Avg. Loss 1.316, Accuracy 60.8): 100%|██████████| 348/348 [01:24<00:00,  4.11it/s]\n",
            "test_batch (Avg. Loss 1.368, Accuracy 58.0): 100%|██████████| 38/38 [00:03<00:00,  9.86it/s]\n",
            "*** Saved checkpoint checkpoints/rnn.pt at epoch 29\n",
            "ACT I. SCENE I:\n",
            "The streets of Rome and his hands and men are all prevail'd.\n",
            "\n",
            "KING RICHARD II:\n",
            "He ha\n",
            "--- EPOCH 30/50 ---\n",
            "train_batch (Avg. Loss 1.314, Accuracy 60.8): 100%|██████████| 348/348 [01:23<00:00,  4.17it/s]\n",
            "test_batch (Avg. Loss 1.366, Accuracy 57.9): 100%|██████████| 38/38 [00:02<00:00, 13.47it/s]\n",
            "ACT I.\n",
            "SECOND LORD:\n",
            "He had not stand upon the sea, and not the land that his absence were a part,\n",
            "An\n",
            "--- EPOCH 31/50 ---\n",
            "train_batch (Avg. Loss 1.313, Accuracy 60.8): 100%|██████████| 348/348 [01:24<00:00,  4.14it/s]\n",
            "test_batch (Avg. Loss 1.366, Accuracy 58.0): 100%|██████████| 38/38 [00:03<00:00, 10.39it/s]\n",
            "*** Saved checkpoint checkpoints/rnn.pt at epoch 31\n",
            "ACT I. SCENE I.\n",
            "The heads of Greeks\n",
            "He cannot trust their faces; and therefore I may see him so in t\n",
            "--- EPOCH 32/50 ---\n",
            "train_batch (Avg. Loss 1.312, Accuracy 60.9): 100%|██████████| 348/348 [01:24<00:00,  4.10it/s]\n",
            "test_batch (Avg. Loss 1.364, Accuracy 58.0): 100%|██████████| 38/38 [00:02<00:00, 13.36it/s]\n",
            "*** Saved checkpoint checkpoints/rnn.pt at epoch 32\n",
            "ACT I. SCENE I:\n",
            "And that the general says the world were fair and strong as heavy with the world,\n",
            "Th\n",
            "--- EPOCH 33/50 ---\n",
            "train_batch (Avg. Loss 1.311, Accuracy 60.9): 100%|██████████| 348/348 [01:24<00:00,  4.12it/s]\n",
            "test_batch (Avg. Loss 1.364, Accuracy 58.0): 100%|██████████| 38/38 [00:03<00:00, 11.21it/s]\n",
            "*** Saved checkpoint checkpoints/rnn.pt at epoch 33\n",
            "ACT I. SCENE I.\n",
            "Farewell.\n",
            "\n",
            "QUEEN ELIZABETH:\n",
            "He that has sent to him, and that he shall be the air of\n",
            "--- EPOCH 34/50 ---\n",
            "train_batch (Avg. Loss 1.309, Accuracy 60.9): 100%|██████████| 348/348 [01:24<00:00,  4.11it/s]\n",
            "test_batch (Avg. Loss 1.364, Accuracy 58.0): 100%|██████████| 38/38 [00:02<00:00, 13.46it/s]\n",
            "*** Saved checkpoint checkpoints/rnn.pt at epoch 34\n",
            "ACT I. SCENE II.\n",
            "Rome. A noble consent\n",
            "And grow in love and love the and the time of satisfaction\n",
            "Wi\n",
            "--- EPOCH 35/50 ---\n",
            "train_batch (Avg. Loss 1.309, Accuracy 60.9): 100%|██████████| 348/348 [01:24<00:00,  4.11it/s]\n",
            "test_batch (Avg. Loss 1.364, Accuracy 58.1): 100%|██████████| 38/38 [00:02<00:00, 13.24it/s]\n",
            "*** Saved checkpoint checkpoints/rnn.pt at epoch 35\n",
            "ACT I. SCENE I.\n",
            "Another part of the part of heaven and Saint George of Rome and her sons,\n",
            "That can m\n",
            "--- EPOCH 36/50 ---\n",
            "train_batch (Avg. Loss 1.308, Accuracy 61.0): 100%|██████████| 348/348 [01:23<00:00,  4.15it/s]\n",
            "test_batch (Avg. Loss 1.365, Accuracy 58.1): 100%|██████████| 38/38 [00:03<00:00, 10.28it/s]\n",
            "*** Saved checkpoint checkpoints/rnn.pt at epoch 36\n",
            "ACT I. SCENE III:\n",
            "For that we must not speak the fault of thee.\n",
            "\n",
            "DUKE OF YORK:\n",
            "How now, how now, my \n",
            "--- EPOCH 37/50 ---\n",
            "train_batch (Avg. Loss 1.306, Accuracy 61.0): 100%|██████████| 348/348 [01:25<00:00,  4.08it/s]\n",
            "test_batch (Avg. Loss 1.364, Accuracy 58.1): 100%|██████████| 38/38 [00:02<00:00, 13.22it/s]\n",
            "*** Saved checkpoint checkpoints/rnn.pt at epoch 37\n",
            "ACT I. SCENE I.\n",
            "The one\n",
            "Of the people with the cause of the way to be their father's son;\n",
            "The world \n",
            "--- EPOCH 38/50 ---\n",
            "train_batch (Avg. Loss 1.305, Accuracy 61.0): 100%|██████████| 348/348 [01:24<00:00,  4.14it/s]\n",
            "test_batch (Avg. Loss 1.362, Accuracy 58.2): 100%|██████████| 38/38 [00:03<00:00, 11.54it/s]\n",
            "*** Saved checkpoint checkpoints/rnn.pt at epoch 38\n",
            "ACT I. SCENE I.\n",
            "Before HASTINGS:\n",
            "I am the leave of the common prince of God.\n",
            "\n",
            "DUKE OF YORK:\n",
            "O sight \n",
            "--- EPOCH 39/50 ---\n",
            "train_batch (Avg. Loss 1.305, Accuracy 61.1): 100%|██████████| 348/348 [01:25<00:00,  4.08it/s]\n",
            "test_batch (Avg. Loss 1.363, Accuracy 58.2): 100%|██████████| 38/38 [00:02<00:00, 13.32it/s]\n",
            "ACT I. SCENE I.\n",
            "Before the KING RICHARD II:\n",
            "God be the head of money is my father:\n",
            "She is not so unw\n",
            "--- EPOCH 40/50 ---\n",
            "train_batch (Avg. Loss 1.304, Accuracy 61.1): 100%|██████████| 348/348 [01:23<00:00,  4.16it/s]\n",
            "test_batch (Avg. Loss 1.362, Accuracy 58.2): 100%|██████████| 38/38 [00:04<00:00,  9.42it/s]\n",
            "ACT I. SCENE I:\n",
            "Sir Thomas Marcius:\n",
            "The son of Benedick and Julia is a word:\n",
            "Madam, I will not speak\n",
            "--- EPOCH 41/50 ---\n",
            "train_batch (Avg. Loss 1.302, Accuracy 61.1): 100%|██████████| 348/348 [01:25<00:00,  4.07it/s]\n",
            "test_batch (Avg. Loss 1.362, Accuracy 58.2): 100%|██████████| 38/38 [00:02<00:00, 13.40it/s]\n",
            "*** Saved checkpoint checkpoints/rnn.pt at epoch 41\n",
            "ACT I. SCENE III:\n",
            "And shall I fight in this end of the sanctified courtiers,\n",
            "Give me a strange death\n",
            "--- EPOCH 42/50 ---\n",
            "train_batch (Avg. Loss 1.302, Accuracy 61.1): 100%|██████████| 348/348 [01:24<00:00,  4.12it/s]\n",
            "test_batch (Avg. Loss 1.359, Accuracy 58.3): 100%|██████████| 38/38 [00:03<00:00, 10.61it/s]\n",
            "*** Saved checkpoint checkpoints/rnn.pt at epoch 42\n",
            "ACT I. MENENIUS:\n",
            "I will see his sake, for when they say, to be the noble face of heaven,\n",
            "That we wil\n",
            "--- EPOCH 43/50 ---\n",
            "train_batch (Avg. Loss 1.301, Accuracy 61.2): 100%|██████████| 348/348 [01:24<00:00,  4.13it/s]\n",
            "test_batch (Avg. Loss 1.359, Accuracy 58.3): 100%|██████████| 38/38 [00:02<00:00, 12.96it/s]\n",
            "ACT I. SCENE I.\n",
            "For the point of his proportions, where they are not stronger to discourse that make\n",
            "--- EPOCH 44/50 ---\n",
            "train_batch (Avg. Loss 1.299, Accuracy 61.2): 100%|██████████| 348/348 [01:25<00:00,  4.06it/s]\n",
            "test_batch (Avg. Loss 1.359, Accuracy 58.3): 100%|██████████| 38/38 [00:03<00:00, 10.72it/s]\n",
            "*** Saved checkpoint checkpoints/rnn.pt at epoch 44\n",
            "ACT I. SCENE I.\n",
            "Before the passion of the law,\n",
            "And now accord the change of things and streams of fa\n",
            "--- EPOCH 45/50 ---\n",
            "train_batch (Avg. Loss 1.299, Accuracy 61.2): 100%|██████████| 348/348 [01:24<00:00,  4.14it/s]\n",
            "test_batch (Avg. Loss 1.357, Accuracy 58.3): 100%|██████████| 38/38 [00:02<00:00, 13.11it/s]\n",
            "*** Saved checkpoint checkpoints/rnn.pt at epoch 45\n",
            "ACT I. SCENE I.\n",
            "The senators of the town:\n",
            "I will not speak to me indeed,\n",
            "And therefore fail the stat\n",
            "--- EPOCH 46/50 ---\n",
            "train_batch (Avg. Loss 1.298, Accuracy 61.2): 100%|██████████| 348/348 [01:25<00:00,  4.06it/s]\n",
            "test_batch (Avg. Loss 1.356, Accuracy 58.3): 100%|██████████| 38/38 [00:02<00:00, 13.28it/s]\n",
            "*** Saved checkpoint checkpoints/rnn.pt at epoch 46\n",
            "ACT I. SCENE I.\n",
            "The prince hath sent to thee to heaven:\n",
            "My father stands the sun to speak of strange\n",
            "--- EPOCH 47/50 ---\n",
            "train_batch (Avg. Loss 1.297, Accuracy 61.2): 100%|██████████| 348/348 [01:24<00:00,  4.14it/s]\n",
            "test_batch (Avg. Loss 1.356, Accuracy 58.3): 100%|██████████| 38/38 [00:03<00:00, 12.49it/s]\n",
            "*** Saved checkpoint checkpoints/rnn.pt at epoch 47\n",
            "ACT I. SCENE I.\n",
            "Before MARIA:\n",
            "I will be mine own lord, I will to the best of their wife,\n",
            "The true pr\n",
            "--- EPOCH 48/50 ---\n",
            "train_batch (Avg. Loss 1.296, Accuracy 61.3): 100%|██████████| 348/348 [01:25<00:00,  4.07it/s]\n",
            "test_batch (Avg. Loss 1.356, Accuracy 58.3): 100%|██████████| 38/38 [00:03<00:00, 12.40it/s]\n",
            "ACT I. SCENE I.\n",
            "The cause of his conditions are not well as far from me.\n",
            "\n",
            "DUKE OF YORK:\n",
            "What will th\n",
            "--- EPOCH 49/50 ---\n",
            "train_batch (Avg. Loss 1.295, Accuracy 61.3): 100%|██████████| 348/348 [01:23<00:00,  4.15it/s]\n",
            "test_batch (Avg. Loss 1.357, Accuracy 58.3): 100%|██████████| 38/38 [00:03<00:00, 10.04it/s]\n",
            "ACT I. SCENE I:\n",
            "The soul of hand, the common sea of praise of the proper state,\n",
            "Whose life should wi\n",
            "--- EPOCH 50/50 ---\n",
            "train_batch (Avg. Loss 1.294, Accuracy 61.3): 100%|██████████| 348/348 [01:24<00:00,  4.13it/s]\n",
            "test_batch (Avg. Loss 1.356, Accuracy 58.4): 100%|██████████| 38/38 [00:02<00:00, 13.17it/s]\n",
            "*** Saved checkpoint checkpoints/rnn.pt at epoch 50\n",
            "ACT I. SCENE I.\n",
            "Bolingbroke. The BASSIANUS:\n",
            "O, proud to the castle, and a street,\n",
            "And so aid they ar\n"
          ]
        },
        {
          "output_type": "display_data",
          "data": {
            "text/plain": [
              "<Figure size 1600x1000 with 4 Axes>"
            ],
            "image/png": "[encoded data removed]"
          },
          "metadata": {}
        }
      ],
      "source": [
        "from helpers.plot import plot_fit\n",
        "\n",
        "def post_epoch_fn(epoch, test_res, train_res, verbose):\n",
        "    # Update learning rate\n",
        "    scheduler.step(test_res.accuracy)\n",
        "    # Sample from model to show progress\n",
        "    if verbose:\n",
        "        start_seq = \"ACT I.\"\n",
        "        generated_sequence = charnn.generate_from_model(\n",
        "            model, start_seq, 100, (char_to_idx,idx_to_char), T=0.5\n",
        "        )\n",
        "        print(generated_sequence)\n",
        "\n",
        "# Train, unless final checkpoint is found\n",
        "checkpoint_file_final = f'{checkpoint_file}_final.pt'\n",
        "if os.path.isfile(checkpoint_file_final):\n",
        "    print(f'*** Loading final checkpoint file {checkpoint_file_final} instead of training')\n",
        "    saved_state = torch.load(checkpoint_file_final, map_location=device)\n",
        "    model.load_state_dict(saved_state['model_state'])\n",
        "else:\n",
        "    try:\n",
        "        # Print pre-training sampling\n",
        "        print(charnn.generate_from_model(model, \"ACT I.\", 100, (char_to_idx,idx_to_char), T=0.5))\n",
        "\n",
        "        fit_res = trainer.fit(dl_train, dl_test, num_epochs, max_batches=max_batches,\n",
        "                              post_epoch_fn=post_epoch_fn, early_stopping=early_stopping,\n",
        "                              checkpoints=checkpoint_file, print_every=1)\n",
        "\n",
        "        fig, axes = plot_fit(fit_res)\n",
        "    except KeyboardInterrupt as e:\n",
        "        print('\\n *** Training interrupted by user')"
      ]
    },
    {
      "cell_type": "markdown",
      "metadata": {
        "id": "7zFpNLwQiFP0"
      },
      "source": [
        "### Generating a work of art\n",
        "<a id=part1_8></a>"
      ]
    },
    {
      "cell_type": "markdown",
      "metadata": {
        "id": "_7Y3XLcOiFP0"
      },
      "source": [
        "Armed with our fully trained model, let's generate the next Hamlet! You should experiment with modifying the sampling temperature and see what happens.\n",
        "\n",
        "**TODO**: Specify the generation parameters in the `part1_generation_params()` function within the `hw3/answers.py` module."
      ]
    },
    {
      "cell_type": "code",
      "execution_count": 22,
      "metadata": {
        "colab": {
          "base_uri": "https://localhost:8080/"
        },
        "id": "tJ3IJop4iFP1",
        "outputId": "cd921a2d-80fa-4575-80cc-8a5d9813253c"
      },
      "outputs": [
        {
          "output_type": "stream",
          "name": "stdout",
          "text": [
            "To be, or not to be: that is the question.\n",
            "\n",
            "KING RICHARD II:\n",
            "So presently I should be so much fool to say,\n",
            "Which we have more than Antonio and his son,\n",
            "And not the tribunes flatter me to me to see the soul of heaven,\n",
            "The tribunes is a good thing for the base;\n",
            "And by the sea and way that they will not speak with him,\n",
            "That we have seen a soul of strength,\n",
            "And stay to be forgot to all the kingdoms of the time\n",
            "To find upon the children of the war of men.\n",
            "\n",
            "KING RICHARD II:\n",
            "So many thousand men I see thee all the house\n",
            "He wears not the people in the deeds of judgment.\n",
            "  FLORIZEL: 'tis a gentleman; and I am glad to strike it:\n",
            "Then what is that the winds in me to come?\n",
            "\n",
            "LORD ROSS:\n",
            "Sweet matter, sir, the villain hath so found the place.\n",
            "\n",
            "KING RICHARD II:\n",
            "And then to see the scorn of death and words will try a true business;\n",
            "But let the company it is a pretty father's son,\n",
            "And in his life were slain, and fight to tread on him.\n",
            "\n",
            "HENRY BOLINGBROKE:\n",
            "God save the soul of life, and she hath seen the sea,\n",
            "But for my particular soul is standers for the earth,\n",
            "The sea is sent for to the table of the state,\n",
            "And seem the base and state of shadows for this land:\n",
            "Where is the king hath struck my son lies,\n",
            "And the property of the world,\n",
            "Which now is not the world in proceedings; therefore,\n",
            "But I will see thee like a king,\n",
            "And so the man is banish'd by the piece of state\n",
            "With their own purposes to stand to him.\n",
            "\n",
            "KING RICHARD II:\n",
            "What means this state of war and me to me.\n",
            "\n",
            "HENRY BOLINGBROKE:\n",
            "So then I say to me in war,\n",
            "The next infections of the sea,\n",
            "That the noble lords, and there have been as a green shame of love;\n",
            "And the best with our father is the state of death,\n",
            "And all the sea of pardon had been king,\n",
            "To stand the other warrant of a breath and soul,\n",
            "And in the single boisterous arms of heaven shall perform\n",
            "In lamentation of the fair designs of his soul to thee.\n",
            "\n",
            "KING RICHARD II:\n",
            "The proper shoulders of the lady of the time\n",
            "To every way was fair and aged fair deeds of\n",
            "With warrant to the state, which we will part of him.\n",
            "\n",
            "KING RICHARD II:\n",
            "Now would you will not be the alsh and three thousand space\n",
            "That he will prove the life of his own face.\n",
            "\n",
            "DUKE OF YORK:\n",
            "Marry he is not so, there is no more with a son of my troth,\n",
            "The sense and part of his throne of all the lion's sons\n",
            "That thou didst say it will be so delivered,\n",
            "And therefore was the devil that will stand on him,\n",
            "And shall the house was in the end of his articles,\n",
            "And the world can say I think it were but the constant gates\n",
            "That we may see the huge and bloody spirit\n",
            "That are as little tale to see the state of battle.\n",
            "\n",
            "LORD ROSS:\n",
            "Nor thou against the beard of men\n",
            "That was provided to have patience with his sense;\n",
            "But we will speak in the nose of my lord,\n",
            "And then the son of Rome are wretched, that which we shall say it was.\n",
            "\n",
            "HENRY BOLINGBROKE:\n",
            "Is this the king shall do to see the soul of this,\n",
            "That now in faith was first as leaves and loss;\n",
            "But when he will stand strong and far off.\n",
            "\n",
            "DUKE OF YORK:\n",
            "Madam, I have shown me to me.\n",
            "Therefore the rest are well seen the scandal of the sun from hence,\n",
            "And when he did report in princely country's face:\n",
            "The general is the name of thine and bloody souls,\n",
            "And what they should be so so secret and reported that I say,\n",
            "My son of Naples hath the sea of beard with heaven\n",
            "To the state of sake; therefore shall I shall be so weak as your worship had not spent the light.\n",
            "\n",
            "QUEEN ELIZABETH:\n",
            "O heavens see them the prince and the heavens are resolved,\n",
            "But when the case hath dreem'd the common streets\n",
            "To his own lord the rascal is the man in his hands\n",
            "And leave me to the common prophetic of the world,\n",
            "Shall tell his friends of heaven, which was a foolish sense,\n",
            "And by my wife is fair than thou art stay'd for that the world is strange.\n",
            "\n",
            "DUKE OF YORK:\n",
            "Why, this is the story of my prayers,\n",
            "And pray the king and the chamber to the streets,\n",
            "But in the heavy cause of this poor eye,\n",
            "Stand by the souls of the state of shame,\n",
            "Which is the one in his arms in their souls:\n",
            "Where is the princely kingdom of my father's son\n",
            "With some of there for brothers do repent the fashion of his books;\n",
            "But so I am a word, and all the party of the sea\n",
            "With state of profit of the time, the constancy of his son,\n",
            "Where many a salt thou shalt be so a stranger of his course,\n",
            "The sea had been the tomb of faith in love.\n",
            "\n",
            "KING RICHARD II:\n",
            "My lord, the one is valiant, and the gods do grief\n",
            "Which I shall speak with me to have we shall be thought to be charged to his head,\n",
            "And then the fearful traitor, and as well as he was worthy\n",
            "That with the bear to the price of the state of heaven,\n",
            "Which we have been the life of his enemies,\n",
            "Where they did see the sea and hand after a suitor.\n",
            "\n",
            "GLOUCESTER:\n",
            "No more, my lord, and then they are to this despair\n",
            "To work against the tender sense of state,\n",
            "Which we shall stand to say they shall resolve me, and the other way\n",
            "Is not this soul of bloody slander's sake:\n",
            "The company be so well proved the purpose of his son,\n",
            "The contrary of the body of my land:\n",
            "The heavens do so, and then the state of death\n",
            "I shall have their particular life in peace.\n",
            "\n",
            "KING RICHARD II:\n",
            "I will not see the banish'd brother's parts.\n",
            "\n",
            "KING RICHARD II:\n",
            "My lord, I will desire the truth; and therefore look on this,\n",
            "That was the scarf of charity and the service of his country's head.\n",
            "\n",
            "HENRY BOLINGBROKE:\n",
            "My lord, the general was a king,\n",
            "That shall endure the people with the princes of the field\n",
            "\n",
            "ACT III: stand up and ready, though the town was base and good,\n",
            "Which was the time I have deserved the body of the king,\n",
            "And presently desire the state of earth with feeding,\n",
            "He should see the despite of his desires.\n",
            "\n",
            "DUKE OF YORK:\n",
            "God save the present truth, the prince of the world\n",
            "That she were found to heaven for this mine honour,\n",
            "Not done to the world with his conscience; when this sight\n",
            "We shall not fight to be as lief as they will bring him to the streets\n",
            "And carried his pity and the suppliest beds\n",
            "With tongues will speak to the sun so true.\n",
            "\n",
            "KING RICHARD II:\n",
            "How many and so considered and so noble soul that hath so far off with the faults?\n",
            "\n",
            "KING RICHARD II:\n",
            "My lord, the villain hath been born to know,\n",
            "And say the world is not so much dispatch thee with a story.\n",
            "\n",
            "HENRY BOLINGBROKE:\n",
            "O, thou art a window, let me see thee there:\n",
            "The ancient strength of soul is on a fool.\n",
            "\n",
            "DUKE OF YORK:\n",
            "You shall not stay for wrath and death.\n",
            "\n",
            "KING RICHARD II:\n",
            "And let them say the streets of this shall never\n",
            "To see the sight of this and all the hearts of princes,\n",
            "And therefore leave the benefit of age and country's face;\n",
            "But as I think they are a fool for that shall be\n",
            "A man that should be so in law of heaven and the world is so.\n",
            "\n",
            "DUKE OF YORK:\n",
            "I am a soul of love to the Duke of Norfolk,\n",
            "And with the manner of a head for life,\n",
            "And with the sea is stain'd with steel and their foul suits.\n",
            "\n",
            "DUKE OF AUMERLE:\n",
            "Now, what is the matter?\n",
            "\n",
            "DUKE OF YORK:\n",
            "I thought it were not like to see the sun to see a crown at your command.\n",
            "\n",
            "DUKE OF YORK:\n",
            "No, no, no, not the first son of a three of them,\n",
            "And he hath given me with my heart to speak in the truth,\n",
            "That shall be satisfied to some of them he does\n",
            "That which it is a chastity that brothers were in presence.\n",
            "  POLIXENES. He is the can as well as I was as a scorn'd enough.\n",
            "\n",
            "DUKE OF YORK:\n",
            "Why, then I think the rest of men will bring us to the world:\n",
            "The king is proud to be the clouds of this promise,\n",
            "That we will not have seen the father of the care;\n",
            "And now the tops of hand was best to have my son\n",
            "To the noble battle that we shall prove fast-\n",
            "The shame of war and heart the other way to see what she is beaten there:\n",
            "The state of body of the time of death\n",
            "As if you were a man of this the state\n",
            "Of more than things my mother's garments to the gods:\n",
            "The heavens have gone to warrant here to see thee stopp'd\n",
            "To play the skill of sake, they say in story would see me to be the speech\n",
            "Of that accuser of the heart of war,\n",
            "And by the company he shall out of the court,\n",
            "When they were bold of sense and high service with the heads\n",
            "That have some shape of blood and shame, and each other and by his enemies,\n",
            "That he shall see the more that we have subject so in having\n",
            "That are not so he thinks in the fire of a word.\n",
            "\n",
            "KING RICHARD II:\n",
            "Why, then my gracious lord, the cause of this despite.\n",
            "\n",
            "ROMEO:\n",
            "And therefore lay the conscience of the sea,\n",
            "That therefore should be patient, which they have seen my scarce being seen to see the people:\n",
            "The army will be so desired to speak.\n",
            "\n",
            "KING RICHARD II:\n",
            "Not I, thou shalt go all of it.\n",
            "\n",
            "DUKE OF YORK:\n",
            "Do you not stay, my lord?\n",
            "\n",
            "DUKE OF YORK:\n",
            "Why, then I have seen thee that was standing from my wife?\n",
            "\n",
            "DUKE OF YORK:\n",
            "I have my son and wife and strength and steel:\n",
            "The enemies of the state of breast was come to fear,\n",
            "His praise and blood is worse than winter lives than thou art to confirm their fury.\n",
            "\n",
            "DUKE OF YORK:\n",
            "Why, sir, and that your hearts were there, we speak to thee.\n",
            "\n",
            "KING RICHARD II:\n",
            "Why, then I'll see the shame of grace to make them cause\n",
            "That shall be sun so seem to be a chair to the court;\n",
            "But that she is a chair of war, nor worthy state,\n",
            "And look upon the speech that will be said to her the children.\n",
            "\n",
            "KING RICHARD II:\n",
            "Why, what a part of mine hath not the shame of Greeks\n",
            "That hath a fair performance of our sons,\n",
            "And with the souls of nature will be sent for to the streets of him.\n",
            "\n",
            "BENVOLIO:\n",
            "No, my lord, I say to me to show our fathers;\n",
            "And my son should be so like that which was the streets\n",
            "That I have been a fool to fight with him;\n",
            "And therefore will I be so fled to me;\n",
            "And she is spent to stop the children of his soul,\n",
            "Which hath a fool in love to him that the hour said\n",
            "He was born as they are bound to be reveng'd,\n",
            "And with the throne of griefs are there at my soul,\n",
            "And see me hence for such a seal of peace:\n",
            "And they will see the way of such a profit of the stars\n",
            "To say the man in his son, and how comes the life of\n",
            "The court of Britaine of the truth of them;\n",
            "Men are a world and love and tricks of honour,\n",
            "And with a soldier of what I have said to be the base\n"
          ]
        }
      ],
      "source": [
        "import hw3.answers\n",
        "\n",
        "start_seq, temperature = hw3.answers.part1_generation_params()\n",
        "\n",
        "generated_sequence = charnn.generate_from_model(\n",
        "    model, start_seq, 10000, (char_to_idx,idx_to_char), T=temperature\n",
        ")\n",
        "\n",
        "print(generated_sequence)"
      ]
    },
    {
      "cell_type": "markdown",
      "metadata": {
        "id": "IUgDVUzZiFP1"
      },
      "source": [
        "## Questions\n",
        "<a id=part1_9></a>"
      ]
    },
    {
      "cell_type": "markdown",
      "metadata": {
        "id": "7NZ2ijusiFP1"
      },
      "source": [
        "**TODO** Answer the following questions. Write your answers in the appropriate variables in the module `hw3/answers.py`."
      ]
    },
    {
      "cell_type": "code",
      "execution_count": 23,
      "metadata": {
        "id": "56PVFz7BiFP1"
      },
      "outputs": [],
      "source": [
        "from helpers.answers import display_answer\n",
        "import hw3.answers"
      ]
    },
    {
      "cell_type": "markdown",
      "metadata": {
        "id": "9000BALoiFP1"
      },
      "source": [
        "### Question 1\n",
        "Why do we split the corpus into sequences instead of training on the whole text?"
      ]
    },
    {
      "cell_type": "code",
      "execution_count": 24,
      "metadata": {
        "colab": {
          "base_uri": "https://localhost:8080/",
          "height": 116
        },
        "id": "fF1xn-K9iFP1",
        "outputId": "51b852dc-c29e-469e-f5a3-15e6a1cb76b4"
      },
      "outputs": [
        {
          "output_type": "display_data",
          "data": {
            "text/plain": [
              "<IPython.core.display.Markdown object>"
            ],
            "text/markdown": "\nWe split the corpus into sequences instead of training on the entire text for several reasons.\nFirst for memory reasons because loading an entire text can consume memory so significantly\nthat it will not be possible to load the entire text and train. Keep in mind that sometimes\nour processing capabilities are limited. Another reason, is more effective training, so train\na batch of samples when each sample is a sequence. Another reason, following on from the\nprevious one, that is more relevant to word-level RNN is the fact that the GRU's memory\ncapacity is limited (that's why we got the LSTM and later the Transformers) and training\non a long sequence can damage the training ability because the gradients are getting weaker\nand the ability to correct distant predictions are getting smaller.\n"
          },
          "metadata": {}
        }
      ],
      "source": [
        "display_answer(hw3.answers.part1_q1)"
      ]
    },
    {
      "cell_type": "markdown",
      "metadata": {
        "id": "k5rM2j61iFP2"
      },
      "source": [
        "### Question 2\n",
        "How is it possible that the generated text clearly shows memory longer than the sequence length?"
      ]
    },
    {
      "cell_type": "code",
      "execution_count": 25,
      "metadata": {
        "colab": {
          "base_uri": "https://localhost:8080/",
          "height": 64
        },
        "id": "u7zctf6DiFP2",
        "outputId": "50ab1750-0fb7-4140-9cfc-b4d3d16c35e7"
      },
      "outputs": [
        {
          "output_type": "display_data",
          "data": {
            "text/plain": [
              "<IPython.core.display.Markdown object>"
            ],
            "text/markdown": "\nIn fact, the hidden state can be used repeatedly (by re-feeding it to the network) to generate\nadditional character predictions and do so cyclically for whatever length we want.\nThe hidden state encodes the system's memory, so it can be used to generate additional characters.\n"
          },
          "metadata": {}
        }
      ],
      "source": [
        "display_answer(hw3.answers.part1_q2)"
      ]
    },
    {
      "cell_type": "markdown",
      "metadata": {
        "id": "99uOkCDRiFP2"
      },
      "source": [
        "### Question 3\n",
        "Why are we not shuffling the order of batches when training?"
      ]
    },
    {
      "cell_type": "code",
      "execution_count": 26,
      "metadata": {
        "colab": {
          "base_uri": "https://localhost:8080/",
          "height": 81
        },
        "id": "XJrSacyriFP2",
        "outputId": "6fe34644-3b66-4ba7-ffd8-c0914b783d05"
      },
      "outputs": [
        {
          "output_type": "display_data",
          "data": {
            "text/plain": [
              "<IPython.core.display.Markdown object>"
            ],
            "text/markdown": "\nWe are not shuffling the order of batches when training because of the sequential nature of the\nsamples in the data set and therefore we would like to keep this information that represents\nthe meaning of the sentence. This is different from a classification task for images, where\nthere is no relation of order or dependence between the images (each image stands alone),\nso we will shuffle.\n"
          },
          "metadata": {}
        }
      ],
      "source": [
        "display_answer(hw3.answers.part1_q3)"
      ]
    },
    {
      "cell_type": "markdown",
      "metadata": {
        "id": "TbvdNNLriFP3"
      },
      "source": [
        "### Question 4\n",
        "1. Why do we lower the temperature for sampling (compared to the default of $1.0$ when training)?\n",
        "2. What happens when the temperature is very high and why?\n",
        "3. What happens when the temperature is very low and why?"
      ]
    },
    {
      "cell_type": "code",
      "execution_count": 27,
      "metadata": {
        "colab": {
          "base_uri": "https://localhost:8080/",
          "height": 191
        },
        "id": "bENPvXZgiFP4",
        "outputId": "d1a98c0c-dbec-4ca4-f8fa-ca6c2f1e23c4"
      },
      "outputs": [
        {
          "output_type": "display_data",
          "data": {
            "text/plain": [
              "<IPython.core.display.Markdown object>"
            ],
            "text/markdown": "\n1. We lower the temperature for sampling because in this way (as we saw in the graph) we get a\ndistribution on the characters that is less and less close to a uniform distribution.\nThis way we can increase the chance of sampling the char(s) with the highest scores (probabilities)\ncompared to the others and get better sequences (hopefully). </br>\n2. When the temperature is very high, the sampling distribution becomes more and more close to\nuniform and thus the characters are chosen randomly. It happens because we get $\\vec{y}/T=0$ when\n$T$ increases and then $e^{\\vec{y}/T}=1$ for every char. If the scores for softmax are equal, \nwe get a uniform distribution $\\mathrm{softmax}_T(\\vec{y}) = \\frac{1}{k}$.</br>\n3. When the temperature is very low, the sampling distribution becomes less and less close to\nuniform and thus the characters are chosen based on the model's predictions according to the\nhighest probabilities. In fact the function emphasizes the differences between the chars.\n"
          },
          "metadata": {}
        }
      ],
      "source": [
        "display_answer(hw3.answers.part1_q4)"
      ]
    },
    {
      "cell_type": "code",
      "execution_count": 27,
      "metadata": {
        "id": "0G7RewLGiFP4"
      },
      "outputs": [],
      "source": []
    }
  ],
  "metadata": {
    "kernelspec": {
      "display_name": "Python 3",
      "name": "python3"
    },
    "language_info": {
      "codemirror_mode": {
        "name": "ipython",
        "version": 3
      },
      "file_extension": ".py",
      "mimetype": "text/x-python",
      "name": "python",
      "nbconvert_exporter": "python",
      "pygments_lexer": "ipython3",
      "version": "3.9.16"
    },
    "colab": {
      "provenance": [],
      "gpuType": "T4"
    },
    "accelerator": "GPU"
  },
  "nbformat": 4,
  "nbformat_minor": 0
}